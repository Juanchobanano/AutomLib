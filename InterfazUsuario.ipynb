{
 "cells": [
  {
   "cell_type": "markdown",
   "metadata": {},
   "source": [
    "# Interfaz de Usuario."
   ]
  },
  {
   "cell_type": "markdown",
   "metadata": {},
   "source": [
    "<img src = \"./imagenes/autom.png\" width = \"350px\">\n",
    "\n",
    "---\n",
    "\n",
    "\n",
    "- **Autor:** Juan Esteban Cepeda Baena$^{1}$.\n",
    "- **Code License:** MIT\n",
    "- **Email:** juancepeda.gestion@gmail.com / jecepedab@unal.edu.co\n",
    "- **Google Site:** https://sites.google.com/view/juancepeda/\n",
    "- **Linkedin:** https://www.linkedin.com/in/juan-e-cepeda-gestion/\n",
    "\n",
    "---\n",
    "\n",
    "$^{1}$ Estudiante de Ciencias de la Computación y Administración de Empresas de la Universidad Nacional de Colombia."
   ]
  },
  {
   "cell_type": "code",
   "execution_count": 8,
   "metadata": {},
   "outputs": [],
   "source": [
    "# Cargar AutomLib.\n",
    "%run ./AutomLib.ipynb\n",
    "\n",
    "# Clase Prueba.\n",
    "prueba = ClasePrueba()\n",
    "prueba.main()"
   ]
  }
 ],
 "metadata": {
  "kernelspec": {
   "display_name": "Python 3",
   "language": "python",
   "name": "python3"
  },
  "language_info": {
   "codemirror_mode": {
    "name": "ipython",
    "version": 3
   },
   "file_extension": ".py",
   "mimetype": "text/x-python",
   "name": "python",
   "nbconvert_exporter": "python",
   "pygments_lexer": "ipython3",
   "version": "3.7.3"
  }
 },
 "nbformat": 4,
 "nbformat_minor": 2
}
