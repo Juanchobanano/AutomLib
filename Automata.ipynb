{
 "cells": [
  {
   "cell_type": "code",
   "execution_count": 1,
   "metadata": {},
   "outputs": [],
   "source": [
    "# Import libraries.\n",
    "import numbers\n",
    "import math\n",
    "import numpy as np\n",
    "import matplotlib.pyplot as plt"
   ]
  },
  {
   "cell_type": "code",
   "execution_count": null,
   "metadata": {},
   "outputs": [],
   "source": [
    "   # Get New States Numbers for lambda transition.\n",
    "            #newStatesNumbersLambda = self.getStatesAccesibleNumbers(\n",
    "            #    current_state, \n",
    "            #    self.language.index(\"e\") \n",
    "            #)\n",
    "            #print(current_state, \"new states lamda: \", newStatesNumbersLambda)\n",
    "            \n",
    "            #if newStatesNumbersLambda != []:\n",
    "                    #for newStateLambda in newStatesNumbersLambda:\n",
    "                        #acceptance_list.append(self.processChain(newStateLambda, chain))\n",
    "            "
   ]
  },
  {
   "cell_type": "code",
   "execution_count": 352,
   "metadata": {},
   "outputs": [],
   "source": [
    "# Automata Class.\n",
    "class Automata: \n",
    "    def __init__(self, language = [], initial_state = 0, states = [], valid_states = [], delta = []):\n",
    "        \n",
    "        #self.current_state = initial_state\n",
    "        self.language = language\n",
    "        self.valid_states = valid_states\n",
    "        self.adjMatrix = self.generateAdyacencyMatrix(states, delta)\n",
    "        \n",
    "    def generateAdyacencyMatrix(self, states, delta):\n",
    "        \n",
    "        # Create matrix object.\n",
    "        adjMatrix = list()\n",
    "        \n",
    "        # Number of layers of the adyacency matrix (depth).\n",
    "        n = len(states)\n",
    "        for i in range(len(self.language)):\n",
    "              adjMatrix.append(np.zeros((n, n)))\n",
    "                \n",
    "        # Delta codifies the edges between nodes.\n",
    "        for edge in delta:\n",
    "            \n",
    "            # Example: edge = [\"q0\", \"q1\", \"a\"]\n",
    "            # Get states number.\n",
    "            first_state = states.index(edge[0])\n",
    "            second_state = states.index(edge[1])\n",
    "            \n",
    "            # Get instruction.\n",
    "            instruction = self.language.index(edge[2])\n",
    "            \n",
    "            # Add new edge.\n",
    "            adjMatrix[instruction][first_state][second_state] = 1\n",
    "        \n",
    "        # Return object.\n",
    "        return adjMatrix\n",
    "    \n",
    "    # Process Chain.\n",
    "    def processChain(self, current_state, chain):\n",
    "        \n",
    "        print(\"Current State: \", current_state)\n",
    "        \n",
    "        # If chain is not null.\n",
    "        if chain != \"\":\n",
    "            \n",
    "            # Get New States Numbers for new instruction in the chain.\n",
    "            newStatesNumbers = self.getStatesAccesibleNumbers(\n",
    "                current_state, \n",
    "                self.language.index(chain[0])   \n",
    "            )\n",
    "            newStatesNumbersLambda = self.getStatesAccesibleNumbers(\n",
    "                current_state, \n",
    "                self.language.index(\"e\") \n",
    "            )\n",
    "            print(\"New States Chain: \", newStatesNumbers)\n",
    "            print(\"New States Lambda: \", newStatesNumbersLambda)\n",
    "                    \n",
    "            # If automata can move to new states.\n",
    "            #print(newStatesNumbers)\n",
    "            if newStatesNumbers != []:\n",
    "                acceptance_list = list()\n",
    "                for newState in newStatesNumbers:\n",
    "                    acceptance_list.append(self.processChain(newState, chain[1:]))\n",
    "                for newLambdaState in newStatesNumbersLambda: \n",
    "                    acceptance_list.append(self.processChain(newLambdaState, chain))\n",
    "                return self.checkAcceptance(acceptance_list)\n",
    " \n",
    "            # Aborted! Since there is no where to move.\n",
    "            else: \n",
    "                return 0    # Aborted.       \n",
    "        \n",
    "        # If chain is null.\n",
    "        else: \n",
    "            print(\"Chain is null!\")\n",
    "            if current_state in self.valid_states:\n",
    "                return 1    # Accepted.\n",
    "            else:\n",
    "                return -1   # Rejected.\n",
    "    \n",
    "    # Get functions.\n",
    "    def getAdyacencyMatrix(self, layer = 0):\n",
    "        return (self.adjMatrix[layer])\n",
    "    \n",
    "    def getValidStates(self):\n",
    "        return (self.valid_states)\n",
    "    \n",
    "    # Utility functions.\n",
    "    def getStatesAccesibleNumbers(self, current_state, instruction):\n",
    "        \n",
    "        layer = self.adjMatrix[instruction]\n",
    "        bridges = layer[current_state]\n",
    "        numbers = list()\n",
    "        for b in range(len(bridges)):\n",
    "            if bridges[b] == 1: numbers.append(b)\n",
    "        return numbers\n",
    "    \n",
    "    def checkAcceptance(self, acceptanceList):\n",
    "        if 1 in acceptanceList: return 1\n",
    "        else: return 0"
   ]
  },
  {
   "cell_type": "code",
   "execution_count": 353,
   "metadata": {},
   "outputs": [],
   "source": [
    "\"\"\"\n",
    "delta = [\n",
    "          [\"q0\", \"q0\", \"a\"], \n",
    "          [\"q0\", \"q1\", \"b\"], \n",
    "          [\"q1\", \"q1\", \"b\"], \n",
    "          [\"q1\", \"q0\", \"a\"], \n",
    "        ]\n",
    "delta = [\n",
    "    [\"q0\", \"q0\", \"a\"], \n",
    "    [\"q0\", \"q1\", \"a\"], \n",
    "    [\"q1\", \"q1\", \"b\"], \n",
    "    [\"q1\", \"q0\", \"a\"], \n",
    "    [\"q0\", \"q2\", \"e\"], \n",
    "    [\"q2\", \"q2\", \"a\"],\n",
    "    [\"q2\", \"q1\", \"b\"], \n",
    "]\n",
    "\"\"\"\n",
    "delta = [\n",
    "    [\"q0\", \"q0\", \"a\"], \n",
    "    [\"q0\", \"q1\", \"e\"], \n",
    "]\n",
    "\n",
    "autom = Automata(language = [\"a\", \"b\", \"e\"], \n",
    "                 states = [\"q0\", \"q1\"], \n",
    "                 delta = delta, \n",
    "                 valid_states = [1]\n",
    "                )"
   ]
  },
  {
   "cell_type": "code",
   "execution_count": 354,
   "metadata": {},
   "outputs": [
    {
     "name": "stdout",
     "output_type": "stream",
     "text": [
      "Current State:  0\n",
      "New States Chain:  [0]\n",
      "New States Lambda:  [1]\n",
      "Current State:  0\n",
      "Chain is null!\n",
      "Current State:  1\n",
      "New States Chain:  []\n",
      "New States Lambda:  []\n"
     ]
    },
    {
     "data": {
      "text/plain": [
       "0"
      ]
     },
     "execution_count": 354,
     "metadata": {},
     "output_type": "execute_result"
    }
   ],
   "source": [
    "autom.processChain(0, \"a\")"
   ]
  },
  {
   "cell_type": "code",
   "execution_count": 336,
   "metadata": {},
   "outputs": [
    {
     "data": {
      "text/plain": [
       "array([[0., 1.],\n",
       "       [0., 0.]])"
      ]
     },
     "execution_count": 336,
     "metadata": {},
     "output_type": "execute_result"
    }
   ],
   "source": [
    "autom.getAdyacencyMatrix(2)"
   ]
  },
  {
   "cell_type": "code",
   "execution_count": null,
   "metadata": {},
   "outputs": [],
   "source": []
  },
  {
   "cell_type": "code",
   "execution_count": null,
   "metadata": {},
   "outputs": [],
   "source": []
  },
  {
   "cell_type": "code",
   "execution_count": 127,
   "metadata": {},
   "outputs": [
    {
     "data": {
      "text/plain": [
       "[1, 4]"
      ]
     },
     "execution_count": 127,
     "metadata": {},
     "output_type": "execute_result"
    }
   ],
   "source": [
    "autom.getStatesAccesibleNumbers([0, 1, 0, 0, 1])"
   ]
  },
  {
   "cell_type": "code",
   "execution_count": 119,
   "metadata": {},
   "outputs": [
    {
     "data": {
      "text/plain": [
       "0"
      ]
     },
     "execution_count": 119,
     "metadata": {},
     "output_type": "execute_result"
    }
   ],
   "source": [
    "autom.checkAcceptance([-1, 0, 0, 0])"
   ]
  },
  {
   "cell_type": "code",
   "execution_count": 48,
   "metadata": {},
   "outputs": [],
   "source": [
    "lista = [0, 1, 0, 1, 0, 0, 1]"
   ]
  },
  {
   "cell_type": "code",
   "execution_count": 50,
   "metadata": {},
   "outputs": [
    {
     "ename": "AttributeError",
     "evalue": "'list' object has no attribute 'index_all'",
     "output_type": "error",
     "traceback": [
      "\u001b[1;31m---------------------------------------------------------------------------\u001b[0m",
      "\u001b[1;31mAttributeError\u001b[0m                            Traceback (most recent call last)",
      "\u001b[1;32m<ipython-input-50-1fc9fe9f5c80>\u001b[0m in \u001b[0;36m<module>\u001b[1;34m\u001b[0m\n\u001b[1;32m----> 1\u001b[1;33m \u001b[0mlista\u001b[0m\u001b[1;33m.\u001b[0m\u001b[0mindex_all\u001b[0m\u001b[1;33m(\u001b[0m\u001b[1;36m1\u001b[0m\u001b[1;33m)\u001b[0m\u001b[1;33m\u001b[0m\u001b[1;33m\u001b[0m\u001b[0m\n\u001b[0m",
      "\u001b[1;31mAttributeError\u001b[0m: 'list' object has no attribute 'index_all'"
     ]
    }
   ],
   "source": [
    "lista.index_all(1)"
   ]
  },
  {
   "cell_type": "code",
   "execution_count": 106,
   "metadata": {},
   "outputs": [],
   "source": [
    "chain = \"a\""
   ]
  },
  {
   "cell_type": "code",
   "execution_count": 107,
   "metadata": {},
   "outputs": [
    {
     "data": {
      "text/plain": [
       "''"
      ]
     },
     "execution_count": 107,
     "metadata": {},
     "output_type": "execute_result"
    }
   ],
   "source": [
    "chain[1:]"
   ]
  },
  {
   "cell_type": "code",
   "execution_count": null,
   "metadata": {},
   "outputs": [],
   "source": []
  }
 ],
 "metadata": {
  "kernelspec": {
   "display_name": "Python 3",
   "language": "python",
   "name": "python3"
  },
  "language_info": {
   "codemirror_mode": {
    "name": "ipython",
    "version": 3
   },
   "file_extension": ".py",
   "mimetype": "text/x-python",
   "name": "python",
   "nbconvert_exporter": "python",
   "pygments_lexer": "ipython3",
   "version": "3.7.3"
  }
 },
 "nbformat": 4,
 "nbformat_minor": 2
}
