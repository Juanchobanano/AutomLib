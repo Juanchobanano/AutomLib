{
 "cells": [
  {
   "cell_type": "markdown",
   "metadata": {},
   "source": [
    "# Interfaz Interactiva (con ejemplos)."
   ]
  },
  {
   "cell_type": "markdown",
   "metadata": {},
   "source": [
    "<img src = \"./imagenes/autom.png\" width = \"350px\">\n",
    "\n",
    "---\n",
    "\n",
    "\n",
    "- **Autor:** Juan Esteban Cepeda Baena$^{1}$.\n",
    "- **Code License:** MIT\n",
    "- **Email:** juancepeda.gestion@gmail.com / jecepedab@unal.edu.co\n",
    "- **Google Site:** https://sites.google.com/view/juancepeda/\n",
    "- **Linkedin:** https://www.linkedin.com/in/juan-e-cepeda-gestion/\n",
    "\n",
    "---\n",
    "\n",
    "$^{1}$ Estudiante de Ciencias de la Computación y Administración de Empresas de la Universidad Nacional de Colombia."
   ]
  },
  {
   "cell_type": "code",
   "execution_count": 1,
   "metadata": {},
   "outputs": [],
   "source": [
    "# Cargar AutomLib.\n",
    "%run ./AutomLib.ipynb"
   ]
  },
  {
   "cell_type": "markdown",
   "metadata": {},
   "source": [
    "## Autómata Determinista."
   ]
  },
  {
   "cell_type": "code",
   "execution_count": 2,
   "metadata": {},
   "outputs": [],
   "source": [
    "# Parámetros del AFD.\n",
    "alphabet = [\"a\", \"b\"]\n",
    "initial_state = \"Q0\"\n",
    "states = [\"Q0\", \"Q1\", \"Q2\", \"Q3\", \"Q4\"]\n",
    "delta = [\n",
    "          [\"Q0\", \"Q0\", \"a\"], \n",
    "          [\"Q0\", \"Q1\", \"b\"], \n",
    "          [\"Q1\", \"Q1\", \"b\"], \n",
    "          [\"Q1\", \"Q2\", \"a\"], \n",
    "          [\"Q2\", \"Q2\", \"a\"],  \n",
    "          [\"Q2\", \"Q3\", \"b\"], \n",
    "          [\"Q3\", \"Q3\", \"a\"], \n",
    "          [\"Q3\", \"Q3\", \"b\"], \n",
    "          [\"Q4\", \"Q2\", \"a\"], \n",
    "          [\"Q4\", \"Q3\", \"b\"]\n",
    "        ]\n",
    "\n",
    "# Si se inicializa el autómata mediante archivo, se ignoran el resto de parámetros.\n",
    "# Si filename = \"\", se presume que no se desea iniciar el autómata mediante archivo.\n",
    "filename = \"\"\n",
    "\n",
    "# Iniciar AFD.\n",
    "afd = AFD(alphabet = alphabet, \n",
    "          initial_state = initial_state, \n",
    "          valid_states = [\"Q0\"], \n",
    "          states = states, \n",
    "          delta = delta, \n",
    "          filename = filename\n",
    "         )"
   ]
  },
  {
   "cell_type": "code",
   "execution_count": 3,
   "metadata": {},
   "outputs": [
    {
     "name": "stdout",
     "output_type": "stream",
     "text": [
      "#!dfa\n",
      "#states\n",
      "Q0\n",
      "Q1\n",
      "Q2\n",
      "Q3\n",
      "Q4\n",
      "#initial\n",
      "Q0\n",
      "#accepting\n",
      "Q0\n",
      "#inaccessible\n",
      "Q4\n",
      "#limbo\n",
      "Q1\n",
      "Q2\n",
      "Q3\n",
      "Q4\n",
      "#transitions\n",
      "Q0:a>Q0\n",
      "Q0:b>Q1\n",
      "Q1:a>Q2\n",
      "Q1:b>Q1\n",
      "Q2:a>Q2\n",
      "Q2:b>Q3\n",
      "Q3:a>Q3\n",
      "Q3:b>Q3\n",
      "Q4:a>Q2\n",
      "Q4:b>Q3\n"
     ]
    }
   ],
   "source": [
    "# Imprimir autómata.\n",
    "afd.toString()"
   ]
  },
  {
   "cell_type": "code",
   "execution_count": 4,
   "metadata": {},
   "outputs": [
    {
     "data": {
      "text/plain": [
       "['Q1', 'Q2', 'Q3', 'Q4']"
      ]
     },
     "execution_count": 4,
     "metadata": {},
     "output_type": "execute_result"
    }
   ],
   "source": [
    "# Hallar estados limbo.\n",
    "afd.hallarEstadosLimbo()"
   ]
  },
  {
   "cell_type": "code",
   "execution_count": 5,
   "metadata": {},
   "outputs": [
    {
     "data": {
      "text/plain": [
       "['Q4']"
      ]
     },
     "execution_count": 5,
     "metadata": {},
     "output_type": "execute_result"
    }
   ],
   "source": [
    "# Hallar estados inaccesibles.\n",
    "afd.hallarEstadosInaccesibles()"
   ]
  },
  {
   "cell_type": "code",
   "execution_count": 6,
   "metadata": {},
   "outputs": [
    {
     "data": {
      "text/plain": [
       "'Q0'"
      ]
     },
     "execution_count": 6,
     "metadata": {},
     "output_type": "execute_result"
    }
   ],
   "source": [
    "# Mostrar estado inicial.\n",
    "afd.getInitialState()"
   ]
  },
  {
   "cell_type": "code",
   "execution_count": 7,
   "metadata": {},
   "outputs": [
    {
     "data": {
      "text/plain": [
       "['Q0']"
      ]
     },
     "execution_count": 7,
     "metadata": {},
     "output_type": "execute_result"
    }
   ],
   "source": [
    "# Mostrar estados de aceptación.\n",
    "afd.getValidStates()"
   ]
  },
  {
   "cell_type": "code",
   "execution_count": 8,
   "metadata": {},
   "outputs": [
    {
     "data": {
      "text/plain": [
       "False"
      ]
     },
     "execution_count": 8,
     "metadata": {},
     "output_type": "execute_result"
    }
   ],
   "source": [
    "# Procesar cadena.\n",
    "afd.procesarCadena(\"abaaaaababa\")"
   ]
  },
  {
   "cell_type": "code",
   "execution_count": 9,
   "metadata": {},
   "outputs": [
    {
     "name": "stdout",
     "output_type": "stream",
     "text": [
      "['Q0', 'abaaaaababa'] -> ['Q0', 'baaaaababa'] -> ['Q1', 'aaaaababa'] -> ['Q2', 'aaaababa'] -> ['Q2', 'aaababa'] -> ['Q2', 'aababa'] -> ['Q2', 'ababa'] -> ['Q2', 'baba'] -> ['Q3', 'aba'] -> ['Q3', 'ba'] -> ['Q3', 'a'] -> ['Q3', ''] -> Rechazado\n",
      "\n"
     ]
    },
    {
     "data": {
      "text/plain": [
       "False"
      ]
     },
     "execution_count": 9,
     "metadata": {},
     "output_type": "execute_result"
    }
   ],
   "source": [
    "# Procesar cadena con detalles.\n",
    "afd.procesarCadenaConDetalles(\"abaaaaababa\")"
   ]
  },
  {
   "cell_type": "code",
   "execution_count": 10,
   "metadata": {},
   "outputs": [
    {
     "name": "stdout",
     "output_type": "stream",
     "text": [
      "abaaaaabab\n",
      "['Q0', 'abaaaaabab'] ->\t['Q0', 'baaaaabab'] ->\t['Q1', 'aaaaabab'] ->\t['Q2', 'aaaabab'] ->\t['Q2', 'aaabab'] ->\t['Q2', 'aabab'] ->\t['Q2', 'abab'] ->\t['Q2', 'bab'] ->\t['Q3', 'ab'] ->\t['Q3', 'b'] ->\t['Q3', ''] ->\t\n",
      "Rechazado\n",
      "\n",
      "aaabbba\n",
      "['Q0', 'aaabbba'] ->\t['Q0', 'aabbba'] ->\t['Q0', 'abbba'] ->\t['Q0', 'bbba'] ->\t['Q1', 'bba'] ->\t['Q1', 'ba'] ->\t['Q1', 'a'] ->\t['Q2', ''] ->\t\n",
      "Rechazado\n",
      "\n",
      "bbbbabaab\n",
      "['Q0', 'bbbbabaab'] ->\t['Q1', 'bbbabaab'] ->\t['Q1', 'bbabaab'] ->\t['Q1', 'babaab'] ->\t['Q1', 'abaab'] ->\t['Q2', 'baab'] ->\t['Q3', 'aab'] ->\t['Q3', 'ab'] ->\t['Q3', 'b'] ->\t['Q3', ''] ->\t\n",
      "Rechazado\n",
      "\n"
     ]
    },
    {
     "data": {
      "text/plain": [
       "'Archivo creado con éxito'"
      ]
     },
     "execution_count": 10,
     "metadata": {},
     "output_type": "execute_result"
    }
   ],
   "source": [
    "# Procesar Lista de Cadenas.\n",
    "afd.procesarListaCadenas(\n",
    "    [\"abaaaaabab\", \"aaabbba\", \"bbbbabaab\"], \n",
    "    \"resultadosAFD.txt\", \n",
    "    True\n",
    ")"
   ]
  },
  {
   "cell_type": "markdown",
   "metadata": {},
   "source": [
    "## Autómata No-Determinista."
   ]
  },
  {
   "cell_type": "code",
   "execution_count": 11,
   "metadata": {},
   "outputs": [],
   "source": [
    "# Parámetros del AFN.\n",
    "alphabet = [\"a\", \"b\"]\n",
    "initial_state = \"Q0\"\n",
    "states = [\"Q0\", \"Q1\", \"Q2\"]\n",
    "delta = [\n",
    "          [\"Q0\", \"Q0\", \"a\"], \n",
    "          [\"Q0\", \"Q1\", \"a\"], \n",
    "          [\"Q1\", \"Q1\", \"b\"], \n",
    "          [\"Q1\", \"Q0\", \"a\"], \n",
    "          [\"Q1\", \"Q2\", \"a\"]\n",
    "        ]\n",
    "\n",
    "# Si se inicializa el autómata mediante archivo, se ignoran el resto de parámetros.\n",
    "# Si filename = \"\", se presume que no se desea iniciar el autómata mediante archivo.\n",
    "filename = \"\"\n",
    "\n",
    "# Iniciar AFN.\n",
    "afn = AFN(alphabet = alphabet, \n",
    "          initial_state = initial_state, \n",
    "          valid_states = [\"Q1\"], \n",
    "          states = states, \n",
    "          delta = delta,\n",
    "          filename = filename\n",
    "         )"
   ]
  },
  {
   "cell_type": "code",
   "execution_count": 12,
   "metadata": {},
   "outputs": [
    {
     "name": "stdout",
     "output_type": "stream",
     "text": [
      "#!nfa\n",
      "#states\n",
      "Q0\n",
      "Q1\n",
      "Q2\n",
      "#initial\n",
      "Q0\n",
      "#accepting\n",
      "Q1\n",
      "#inaccessible\n",
      "#limbo\n",
      "Q2\n",
      "#transitions\n",
      "Q0:a>Q0;Q1\n",
      "Q1:a>Q0;Q2\n",
      "Q1:b>Q1\n"
     ]
    }
   ],
   "source": [
    "# Imprimir autómata.\n",
    "afn.toString()"
   ]
  },
  {
   "cell_type": "code",
   "execution_count": 13,
   "metadata": {},
   "outputs": [
    {
     "data": {
      "text/plain": [
       "False"
      ]
     },
     "execution_count": 13,
     "metadata": {},
     "output_type": "execute_result"
    }
   ],
   "source": [
    "# Procesar cadena.\n",
    "afn.procesarCadena(\"bbaaab\")"
   ]
  },
  {
   "cell_type": "code",
   "execution_count": 14,
   "metadata": {},
   "outputs": [
    {
     "name": "stdout",
     "output_type": "stream",
     "text": [
      "Procesamientos que terminan en un estado de aceptación: \n",
      "\n",
      "Procesamiento No.  1\n",
      "['Q0', 'aaab'] -> ['Q0', 'aab'] -> ['Q0', 'ab'] -> ['Q1', 'b'] -> ['Q1', ''] -> Aceptado\n",
      "\n",
      " \n",
      "Procesamiento No.  5\n",
      "['Q0', 'aaab'] -> ['Q1', 'aab'] -> ['Q0', 'ab'] -> ['Q1', 'b'] -> ['Q1', ''] -> Aceptado\n",
      "\n",
      " \n"
     ]
    },
    {
     "data": {
      "text/plain": [
       "True"
      ]
     },
     "execution_count": 14,
     "metadata": {},
     "output_type": "execute_result"
    }
   ],
   "source": [
    "# Procesar cadena con detalles.\n",
    "afn.procesarCadenaConDetalles(\"aaab\")"
   ]
  },
  {
   "cell_type": "code",
   "execution_count": 15,
   "metadata": {},
   "outputs": [
    {
     "name": "stdout",
     "output_type": "stream",
     "text": [
      "---Procesamientos Aceptados---\n",
      "Procesamiento No. 1\n",
      "['Q0', 'aaab'] -> ['Q0', 'aab'] -> ['Q0', 'ab'] -> ['Q1', 'b'] -> ['Q1', ''] -> Aceptado\n",
      "\n",
      "Procesamiento No. 2\n",
      "['Q0', 'aaab'] -> ['Q1', 'aab'] -> ['Q0', 'ab'] -> ['Q1', 'b'] -> ['Q1', ''] -> Aceptado\n",
      "\n",
      "\n",
      "---Procesamientos Rechazados---\n",
      "\n",
      "---Procesamientos Abortados---\n",
      "Procesamiento No. 1\n",
      "['Q0', 'aaab'] -> ['Q0', 'aab'] -> ['Q0', 'ab'] -> ['Q0', 'b'] -> Abortado\n",
      "\n",
      "Procesamiento No. 2\n",
      "['Q0', 'aaab'] -> ['Q0', 'aab'] -> ['Q1', 'ab'] -> ['Q0', 'b'] -> Abortado\n",
      "\n",
      "Procesamiento No. 3\n",
      "['Q0', 'aaab'] -> ['Q0', 'aab'] -> ['Q1', 'ab'] -> ['Q2', 'b'] -> Abortado\n",
      "\n",
      "Procesamiento No. 4\n",
      "['Q0', 'aaab'] -> ['Q1', 'aab'] -> ['Q0', 'ab'] -> ['Q0', 'b'] -> Abortado\n",
      "\n",
      "Procesamiento No. 5\n",
      "['Q0', 'aaab'] -> ['Q1', 'aab'] -> ['Q2', 'ab'] -> Abortado\n",
      "\n"
     ]
    },
    {
     "data": {
      "text/plain": [
       "7"
      ]
     },
     "execution_count": 15,
     "metadata": {},
     "output_type": "execute_result"
    }
   ],
   "source": [
    "# Computar todos los procesamientos.\n",
    "afn.computarTodosLosProcesamientos(\"aaab\")"
   ]
  },
  {
   "cell_type": "code",
   "execution_count": 16,
   "metadata": {},
   "outputs": [
    {
     "name": "stdout",
     "output_type": "stream",
     "text": [
      "------Nueva cadena-----\n",
      "\n",
      "aba\n",
      "['Q0', 'aba'] -> ['Q1', 'ba'] -> ['Q1', 'a'] -> ['Q0', ''] -> Rechazado\n",
      "\n",
      "3\t0\t1\t2\tNo\t\n",
      "\n",
      "------Nueva cadena-----\n",
      "\n",
      "aaab\n",
      "['Q0', 'aaab'] -> ['Q0', 'aab'] -> ['Q0', 'ab'] -> ['Q1', 'b'] -> ['Q1', ''] -> Aceptado\n",
      "\n",
      "7\t2\t5\t0\tSi\t\n",
      "\n",
      "------Nueva cadena-----\n",
      "\n",
      "bbaaabba\n",
      "['Q0', 'bbaaabba'] -> Abortado\n",
      "\n",
      "1\t0\t1\t0\tNo\t\n",
      "\n",
      "------Nueva cadena-----\n",
      "\n",
      "abbaaabba\n",
      "['Q0', 'abbaaabba'] -> ['Q1', 'bbaaabba'] -> ['Q1', 'baaabba'] -> ['Q1', 'aaabba'] -> ['Q0', 'aabba'] -> ['Q0', 'abba'] -> ['Q1', 'bba'] -> ['Q1', 'ba'] -> ['Q1', 'a'] -> ['Q0', ''] -> Rechazado\n",
      "\n",
      "7\t0\t5\t2\tNo\t\n",
      "\n"
     ]
    },
    {
     "data": {
      "text/plain": [
       "'Archivo creado con éxito'"
      ]
     },
     "execution_count": 16,
     "metadata": {},
     "output_type": "execute_result"
    }
   ],
   "source": [
    "# Procesar lista de cadenas.\n",
    "afn.procesarListaCadenas(\n",
    "    [\"aba\", \"aaab\", \"bbaaabba\", \"abbaaabba\"], \n",
    "    \"resultadosAFN.txt\", \n",
    "    True\n",
    ")"
   ]
  },
  {
   "cell_type": "code",
   "execution_count": 17,
   "metadata": {},
   "outputs": [
    {
     "data": {
      "text/plain": [
       "False"
      ]
     },
     "execution_count": 17,
     "metadata": {},
     "output_type": "execute_result"
    }
   ],
   "source": [
    "# Procesar cadena conversión.\n",
    "afn.procesarCadenaConversion(\"aaaba\")"
   ]
  },
  {
   "cell_type": "code",
   "execution_count": 18,
   "metadata": {},
   "outputs": [
    {
     "name": "stdout",
     "output_type": "stream",
     "text": [
      "-----------\n",
      "Conversión de autómata no-determinista a determinista.\n",
      "-----------\n",
      "Estados antiguos:\n",
      "['Q0', 'Q1', 'Q2']\n",
      "\n",
      "Función de transición antigua:\n",
      "['Q0', 'Q0', 'a']\n",
      "['Q0', 'Q1', 'a']\n",
      "['Q1', 'Q1', 'b']\n",
      "['Q1', 'Q0', 'a']\n",
      "['Q1', 'Q2', 'a']\n",
      "\n",
      "Estados nuevos:\n",
      "['{Q0}', '{Q1}', '{Q2}', '{Q0,Q1}', '{Q0,Q2}', '{Q0,Q1,Q2}']\n",
      "\n",
      "Función de transición nueva:\n",
      "['{Q0}', '{Q0,Q1}', 'a']\n",
      "['{Q1}', '{Q0,Q2}', 'a']\n",
      "['{Q1}', '{Q1}', 'b']\n",
      "['{Q0,Q1}', '{Q0,Q1,Q2}', 'a']\n",
      "['{Q0,Q2}', '{Q0,Q1}', 'a']\n",
      "['{Q0,Q1}', '{Q1}', 'b']\n",
      "['{Q0,Q1,Q2}', '{Q0,Q1,Q2}', 'a']\n",
      "['{Q0,Q1,Q2}', '{Q1}', 'b']\n",
      "\n",
      "------Nueva cadena-----\n",
      "\n",
      "aaabaaa\n",
      "['{Q0}', 'aaabaaa'] -> ['{Q0,Q1}', 'aabaaa'] -> ['{Q0,Q1,Q2}', 'abaaa'] -> ['{Q0,Q1,Q2}', 'baaa'] -> ['{Q1}', 'aaa'] -> ['{Q0,Q2}', 'aa'] -> ['{Q0,Q1}', 'a'] -> ['{Q0,Q1,Q2}', ''] -> Aceptado\n",
      "\n",
      "1\t1\t0\t0\tSi\t\n",
      "\n",
      "------Nueva cadena-----\n",
      "\n",
      "bbbab\n",
      "['{Q0}', 'bbbab'] -> Abortado\n",
      "\n",
      "1\t0\t1\t0\tNo\t\n",
      "\n"
     ]
    }
   ],
   "source": [
    "# Procesar lista cadenas conversión.\n",
    "afn.procesarListaCadenasConversion(\n",
    "    [\"aaabaaa\", \"bbbab\"], \n",
    "    \"./conversionAFD1.txt\", \n",
    "    imprimirPantalla = True\n",
    ")"
   ]
  },
  {
   "cell_type": "code",
   "execution_count": 19,
   "metadata": {},
   "outputs": [],
   "source": [
    "# Parámetros del AFN.\n",
    "alphabet = [\"0\", \"1\"]\n",
    "initial_state = \"Q0\"\n",
    "states = [\"Q0\", \"Q1\", \"Q2\", \"Q3\"]\n",
    "delta = [\n",
    "          [\"Q0\", \"Q1\", \"0\"], \n",
    "          [\"Q1\", \"Q1\", \"0\"], \n",
    "          [\"Q1\", \"Q3\", \"0\"], \n",
    "          [\"Q1\", \"Q2\", \"1\"], \n",
    "          [\"Q3\", \"Q3\", \"1\"],\n",
    "          [\"Q2\", \"Q2\", \"0\"],\n",
    "          [\"Q0\", \"Q2\", \"1\"],\n",
    "        ]\n",
    "\n",
    "# Iniciar AFN.\n",
    "afn = AFN(alphabet = alphabet, \n",
    "          initial_state = initial_state, \n",
    "          valid_states = [\"Q2\", \"Q3\"], \n",
    "          states = states, \n",
    "          delta = delta\n",
    "         )"
   ]
  },
  {
   "cell_type": "markdown",
   "metadata": {},
   "source": [
    "## Autómata No-Determinista con Transiciones Lambda.\n"
   ]
  },
  {
   "cell_type": "code",
   "execution_count": 20,
   "metadata": {},
   "outputs": [],
   "source": [
    "# Parámetros del AFNLambda.\n",
    "alphabet = [\"a\", \"b\", \"$\"]\n",
    "initial_state = \"Q0\"\n",
    "states = [\"Q0\", \"Q1\", \"Q2\", \"Q3\"]\n",
    "delta = [\n",
    "    [\"Q0\", \"Q0\", \"a\"], #\n",
    "    [\"Q0\", \"Q2\", \"$\"], #\n",
    "    [\"Q2\", \"Q1\", \"b\"], #\n",
    "    [\"Q1\", \"Q2\", \"a\"], #\n",
    "    [\"Q2\", \"Q3\", \"$\"],\n",
    "    [\"Q3\", \"Q3\", \"b\"], \n",
    "]\n",
    "\n",
    "# Iniciar AFNLambda.\n",
    "afnLambda = AFNLambda(alphabet = alphabet, \n",
    "          initial_state = initial_state, \n",
    "          valid_states = [\"Q3\"], \n",
    "          states = states, \n",
    "          delta = delta\n",
    "          )"
   ]
  },
  {
   "cell_type": "code",
   "execution_count": 21,
   "metadata": {},
   "outputs": [
    {
     "name": "stdout",
     "output_type": "stream",
     "text": [
      "#!nfae\n",
      "#states\n",
      "Q0\n",
      "Q1\n",
      "Q2\n",
      "Q3\n",
      "#initial\n",
      "Q0\n",
      "#accepting\n",
      "Q3\n",
      "#inaccessible\n",
      "#limbo\n",
      "#transitions\n",
      "Q0:$>Q2\n",
      "Q0:a>Q0\n",
      "Q1:a>Q2\n",
      "Q2:$>Q3\n",
      "Q2:b>Q1\n",
      "Q3:b>Q3\n"
     ]
    }
   ],
   "source": [
    "# Imprimir autómata.\n",
    "afnLambda.toString()"
   ]
  },
  {
   "cell_type": "code",
   "execution_count": 22,
   "metadata": {},
   "outputs": [
    {
     "data": {
      "text/plain": [
       "['Q2', 'Q3']"
      ]
     },
     "execution_count": 22,
     "metadata": {},
     "output_type": "execute_result"
    }
   ],
   "source": [
    "# Calcular lambda clausura.\n",
    "afnLambda.calcularLambdaClausura(current_state = \"Q2\")"
   ]
  },
  {
   "cell_type": "code",
   "execution_count": 23,
   "metadata": {},
   "outputs": [
    {
     "data": {
      "text/plain": [
       "[['Q0', 'Q2', 'Q3'], ['Q1'], ['Q2', 'Q3']]"
      ]
     },
     "execution_count": 23,
     "metadata": {},
     "output_type": "execute_result"
    }
   ],
   "source": [
    "# Calcular lambda clausuras de varios estados.\n",
    "afnLambda.calcularLambdaClausuras([\"Q0\", \"Q1\", \"Q2\"])"
   ]
  },
  {
   "cell_type": "code",
   "execution_count": 24,
   "metadata": {},
   "outputs": [
    {
     "data": {
      "text/plain": [
       "False"
      ]
     },
     "execution_count": 24,
     "metadata": {},
     "output_type": "execute_result"
    }
   ],
   "source": [
    "# Procesar cadena.\n",
    "afnLambda.procesarCadena(\"abbaab\")"
   ]
  },
  {
   "cell_type": "code",
   "execution_count": 25,
   "metadata": {},
   "outputs": [
    {
     "name": "stdout",
     "output_type": "stream",
     "text": [
      "Procesamientos que terminan en un estado de aceptación: \n",
      "\n",
      "Procesamiento No.  0\n",
      "['Q0', 'aaaa'] -> ['Q0', 'aaa'] -> ['Q0', 'aa'] -> ['Q0', 'a'] -> ['Q0', ''] -> ['Q2', ''] -> ['Q3', ''] -> Aceptado\n",
      "\n",
      " \n"
     ]
    },
    {
     "data": {
      "text/plain": [
       "True"
      ]
     },
     "execution_count": 25,
     "metadata": {},
     "output_type": "execute_result"
    }
   ],
   "source": [
    "# Procesar cadena con detalles.\n",
    "afnLambda.procesarCadenaConDetalles(\"aaaa\")"
   ]
  },
  {
   "cell_type": "code",
   "execution_count": 26,
   "metadata": {},
   "outputs": [
    {
     "name": "stdout",
     "output_type": "stream",
     "text": [
      "---Procesamientos Aceptados---\n",
      "---Procesamientos Rechazados---\n",
      "---Procesamiento Abortados---\n",
      "Procesamiento No. 1\n",
      "['Q0', 'abbaab'] -> ['Q0', 'bbaab'] -> ['Q2', 'bbaab'] -> ['Q1', 'baab'] -> Abortado\n",
      "\n",
      "Procesamiento No. 2\n",
      "['Q0', 'abbaab'] -> ['Q0', 'bbaab'] -> ['Q2', 'bbaab'] -> ['Q3', 'bbaab'] -> ['Q3', 'baab'] -> ['Q3', 'aab'] -> Abortado\n",
      "\n",
      "Procesamiento No. 3\n",
      "['Q0', 'abbaab'] -> ['Q2', 'abbaab'] -> ['Q3', 'abbaab'] -> Abortado\n",
      "\n"
     ]
    },
    {
     "data": {
      "text/plain": [
       "3"
      ]
     },
     "execution_count": 26,
     "metadata": {},
     "output_type": "execute_result"
    }
   ],
   "source": [
    "# Computar todos los procesamientos.\n",
    "afnLambda.computarTodosLosProcesamientos(\"abbaab\")"
   ]
  },
  {
   "cell_type": "code",
   "execution_count": 27,
   "metadata": {},
   "outputs": [
    {
     "name": "stdout",
     "output_type": "stream",
     "text": [
      "------Nueva cadena-----\n",
      "\n",
      "abb\t['Q0', 'abb'] -> ['Q0', 'bb'] -> ['Q2', 'bb'] -> ['Q3', 'bb'] -> ['Q3', 'b'] -> ['Q3', ''] -> Aceptado\n",
      "\n",
      "3\t1\t2\t0\tSi\t\n",
      "\n",
      "------Nueva cadena-----\n",
      "\n",
      "abbba\t['Q0', 'abbba'] -> ['Q2', 'abbba'] -> ['Q3', 'abbba'] -> Abortado\n",
      "\n",
      "3\t0\t3\t0\tNo\t\n",
      "\n",
      "------Nueva cadena-----\n",
      "\n",
      "aaaab\t['Q0', 'aaaab'] -> ['Q0', 'aaab'] -> ['Q0', 'aab'] -> ['Q0', 'ab'] -> ['Q0', 'b'] -> ['Q2', 'b'] -> ['Q3', 'b'] -> ['Q3', ''] -> Aceptado\n",
      "\n",
      "6\t1\t4\t1\tSi\t\n",
      "\n",
      "------Nueva cadena-----\n",
      "\n",
      "abbaaaa\t['Q0', 'abbaaaa'] -> ['Q2', 'abbaaaa'] -> ['Q3', 'abbaaaa'] -> Abortado\n",
      "\n",
      "3\t0\t3\t0\tNo\t\n",
      "\n",
      "------Nueva cadena-----\n",
      "\n",
      "abbaab\t['Q0', 'abbaab'] -> ['Q2', 'abbaab'] -> ['Q3', 'abbaab'] -> Abortado\n",
      "\n",
      "3\t0\t3\t0\tNo\t\n",
      "\n"
     ]
    },
    {
     "data": {
      "text/plain": [
       "'Archivo creado con éxito'"
      ]
     },
     "execution_count": 27,
     "metadata": {},
     "output_type": "execute_result"
    }
   ],
   "source": [
    "# Procesar lista de cadenas.\n",
    "afnLambda.procesarListaCadenas(\n",
    "    [\"abb\", \"abbba\", \"aaaab\", \"abbaaaa\", \"abbaab\"], \n",
    "    \"resultadosAFNLambda.txt\", \n",
    "    True\n",
    ")"
   ]
  },
  {
   "cell_type": "code",
   "execution_count": 28,
   "metadata": {},
   "outputs": [
    {
     "name": "stdout",
     "output_type": "stream",
     "text": [
      "Procesamientos que terminan en un estado de aceptación: \n",
      "\n",
      "Procesamiento No.  0\n",
      "['{Q0}', 'aaaab'] -> ['{Q0,Q2,Q3}', 'aaab'] -> ['{Q0,Q2,Q3}', 'aab'] -> ['{Q0,Q2,Q3}', 'ab'] -> ['{Q0,Q2,Q3}', 'b'] -> ['{Q1,Q3}', ''] -> Aceptado\n",
      "\n",
      " \n"
     ]
    },
    {
     "data": {
      "text/plain": [
       "True"
      ]
     },
     "execution_count": 28,
     "metadata": {},
     "output_type": "execute_result"
    }
   ],
   "source": [
    "# Procesar cadena con detalles conversión.\n",
    "afnLambda.procesarCadenaConDetallesConversion(\"aaaab\")"
   ]
  },
  {
   "cell_type": "code",
   "execution_count": 29,
   "metadata": {
    "scrolled": true
   },
   "outputs": [
    {
     "name": "stdout",
     "output_type": "stream",
     "text": [
      "-----------\n",
      "Conversión de autómata con transiciones Lambda a no determinista.\n",
      "-----------\n",
      "Estado:  Q0.   Lambda Clausura:  {Q0,Q2,Q3}\n",
      "\n",
      "Delta'(Q0, a) =  $[Delta($[Q0],a)] =  $[Delta( {Q0,Q2,Q3} , a)] =  $[ {Q0} ] =  {Q0,Q2,Q3}\n",
      "Delta'(Q0, b) =  $[Delta($[Q0],b)] =  $[Delta( {Q0,Q2,Q3} , b)] =  $[ {Q1,Q3} ] =  {Q1,Q3}\n",
      "\n",
      "Estado:  Q1.   Lambda Clausura:  {Q1}\n",
      "\n",
      "Delta'(Q1, a) =  $[Delta($[Q1],a)] =  $[Delta( {Q1} , a)] =  $[ {Q2} ] =  {Q2,Q3}\n",
      "Delta'(Q1, b) =  $[Delta($[Q1],b)] =  $[Delta( {Q1} , b)] =  $[ {} ] =  {}\n",
      "\n",
      "Estado:  Q2.   Lambda Clausura:  {Q2,Q3}\n",
      "\n",
      "Delta'(Q2, a) =  $[Delta($[Q2],a)] =  $[Delta( {Q2,Q3} , a)] =  $[ {} ] =  {}\n",
      "Delta'(Q2, b) =  $[Delta($[Q2],b)] =  $[Delta( {Q2,Q3} , b)] =  $[ {Q1,Q3} ] =  {Q1,Q3}\n",
      "\n",
      "Estado:  Q3.   Lambda Clausura:  {Q3}\n",
      "\n",
      "Delta'(Q3, a) =  $[Delta($[Q3],a)] =  $[Delta( {Q3} , a)] =  $[ {} ] =  {}\n",
      "Delta'(Q3, b) =  $[Delta($[Q3],b)] =  $[Delta( {Q3} , b)] =  $[ {Q3} ] =  {Q3}\n",
      "\n",
      "Estados antiguos:\n",
      "['Q0', 'Q1', 'Q2', 'Q3']\n",
      "\n",
      "Función de transición antigua:\n",
      "['Q0', 'Q0', 'a']\n",
      "['Q0', 'Q2', '$']\n",
      "['Q2', 'Q1', 'b']\n",
      "['Q1', 'Q2', 'a']\n",
      "['Q2', 'Q3', '$']\n",
      "['Q3', 'Q3', 'b']\n",
      "\n",
      "Estados nuevos:\n",
      "['Q0', 'Q1', 'Q2', 'Q3']\n",
      "\n",
      "Función de transición nueva:\n",
      "['Q0', 'Q0', 'a']\n",
      "['Q0', 'Q2', 'a']\n",
      "['Q0', 'Q3', 'a']\n",
      "['Q0', 'Q1', 'b']\n",
      "['Q0', 'Q3', 'b']\n",
      "['Q1', 'Q2', 'a']\n",
      "['Q1', 'Q3', 'a']\n",
      "['Q2', 'Q1', 'b']\n",
      "['Q2', 'Q3', 'b']\n",
      "['Q3', 'Q3', 'b']\n",
      "\n",
      "-----------\n",
      "Conversión de autómata no-determinista a determinista.\n",
      "-----------\n",
      "Estados antiguos:\n",
      "['Q0', 'Q1', 'Q2', 'Q3']\n",
      "\n",
      "Función de transición antigua:\n",
      "['Q0', 'Q0', 'a']\n",
      "['Q0', 'Q2', 'a']\n",
      "['Q0', 'Q3', 'a']\n",
      "['Q0', 'Q1', 'b']\n",
      "['Q0', 'Q3', 'b']\n",
      "['Q1', 'Q2', 'a']\n",
      "['Q1', 'Q3', 'a']\n",
      "['Q2', 'Q1', 'b']\n",
      "['Q2', 'Q3', 'b']\n",
      "['Q3', 'Q3', 'b']\n",
      "\n",
      "Estados nuevos:\n",
      "['{Q0}', '{Q1}', '{Q2}', '{Q3}', '{Q0,Q2,Q3}', '{Q2,Q3}', '{Q1,Q3}']\n",
      "\n",
      "Función de transición nueva:\n",
      "['{Q0}', '{Q0,Q2,Q3}', 'a']\n",
      "['{Q1}', '{Q2,Q3}', 'a']\n",
      "['{Q0}', '{Q1,Q3}', 'b']\n",
      "['{Q2}', '{Q1,Q3}', 'b']\n",
      "['{Q3}', '{Q3}', 'b']\n",
      "['{Q0,Q2,Q3}', '{Q0,Q2,Q3}', 'a']\n",
      "['{Q1,Q3}', '{Q2,Q3}', 'a']\n",
      "['{Q0,Q2,Q3}', '{Q1,Q3}', 'b']\n",
      "['{Q2,Q3}', '{Q1,Q3}', 'b']\n",
      "['{Q1,Q3}', '{Q3}', 'b']\n",
      "\n",
      "------Nueva cadena-----\n",
      "\n",
      "abb\n",
      "['{Q0}', 'abb'] -> ['{Q0,Q2,Q3}', 'bb'] -> ['{Q1,Q3}', 'b'] -> ['{Q3}', ''] -> Aceptado\n",
      "\n",
      "1\t1\t0\t0\tSi\t\n",
      "\n",
      "------Nueva cadena-----\n",
      "\n",
      "abbba\n",
      "['{Q0}', 'abbba'] -> ['{Q0,Q2,Q3}', 'bbba'] -> ['{Q1,Q3}', 'bba'] -> ['{Q3}', 'ba'] -> ['{Q3}', 'a'] -> Abortado\n",
      "\n",
      "1\t0\t1\t0\tNo\t\n",
      "\n",
      "------Nueva cadena-----\n",
      "\n",
      "aaaab\n",
      "['{Q0}', 'aaaab'] -> ['{Q0,Q2,Q3}', 'aaab'] -> ['{Q0,Q2,Q3}', 'aab'] -> ['{Q0,Q2,Q3}', 'ab'] -> ['{Q0,Q2,Q3}', 'b'] -> ['{Q1,Q3}', ''] -> Aceptado\n",
      "\n",
      "1\t1\t0\t0\tSi\t\n",
      "\n",
      "------Nueva cadena-----\n",
      "\n",
      "abbaaaa\n",
      "['{Q0}', 'abbaaaa'] -> ['{Q0,Q2,Q3}', 'bbaaaa'] -> ['{Q1,Q3}', 'baaaa'] -> ['{Q3}', 'aaaa'] -> Abortado\n",
      "\n",
      "1\t0\t1\t0\tNo\t\n",
      "\n",
      "------Nueva cadena-----\n",
      "\n",
      "abbaab\n",
      "['{Q0}', 'abbaab'] -> ['{Q0,Q2,Q3}', 'bbaab'] -> ['{Q1,Q3}', 'baab'] -> ['{Q3}', 'aab'] -> Abortado\n",
      "\n",
      "1\t0\t1\t0\tNo\t\n",
      "\n"
     ]
    }
   ],
   "source": [
    "# Procesar lista de cadenas con detalles conversión.\n",
    "afnLambda.procesarListaCadenasConversion(\n",
    "    [\"abb\", \"abbba\", \"aaaab\", \"abbaaaa\", \"abbaab\"], \n",
    "    \"conversionAFD2.txt\", \n",
    "    True\n",
    ")"
   ]
  },
  {
   "cell_type": "markdown",
   "metadata": {},
   "source": [
    "## Transformación de Autómatas."
   ]
  },
  {
   "cell_type": "code",
   "execution_count": 30,
   "metadata": {},
   "outputs": [],
   "source": [
    "transformador = TransformadorAutomatas()"
   ]
  },
  {
   "cell_type": "markdown",
   "metadata": {},
   "source": [
    "### AFN a AFD."
   ]
  },
  {
   "cell_type": "code",
   "execution_count": 31,
   "metadata": {},
   "outputs": [
    {
     "name": "stdout",
     "output_type": "stream",
     "text": [
      "-----------\n",
      "Conversión de autómata no-determinista a determinista.\n",
      "-----------\n",
      "Estados antiguos:\n",
      "['Q0', 'Q1', 'Q2', 'Q3']\n",
      "\n",
      "Función de transición antigua:\n",
      "['Q0', 'Q1', '0']\n",
      "['Q1', 'Q1', '0']\n",
      "['Q1', 'Q3', '0']\n",
      "['Q1', 'Q2', '1']\n",
      "['Q3', 'Q3', '1']\n",
      "['Q2', 'Q2', '0']\n",
      "['Q0', 'Q2', '1']\n",
      "\n",
      "Estados nuevos:\n",
      "['{Q0}', '{Q1}', '{Q2}', '{Q3}', '{Q1,Q3}', '{Q2,Q3}']\n",
      "\n",
      "Función de transición nueva:\n",
      "['{Q0}', '{Q1}', '0']\n",
      "['{Q1}', '{Q1,Q3}', '0']\n",
      "['{Q2}', '{Q2}', '0']\n",
      "['{Q0}', '{Q2}', '1']\n",
      "['{Q1}', '{Q2}', '1']\n",
      "['{Q3}', '{Q3}', '1']\n",
      "['{Q1,Q3}', '{Q1,Q3}', '0']\n",
      "['{Q1,Q3}', '{Q2,Q3}', '1']\n",
      "['{Q2,Q3}', '{Q2}', '0']\n",
      "['{Q2,Q3}', '{Q3}', '1']\n",
      "\n"
     ]
    },
    {
     "data": {
      "text/plain": [
       "<__main__.AFN at 0x26be97f6400>"
      ]
     },
     "execution_count": 31,
     "metadata": {},
     "output_type": "execute_result"
    }
   ],
   "source": [
    "transformador.AFNtoAFD(afn)"
   ]
  },
  {
   "cell_type": "markdown",
   "metadata": {},
   "source": [
    "### AFNLambda a AFN."
   ]
  },
  {
   "cell_type": "code",
   "execution_count": 32,
   "metadata": {},
   "outputs": [
    {
     "name": "stdout",
     "output_type": "stream",
     "text": [
      "-----------\n",
      "Conversión de autómata con transiciones Lambda a no determinista.\n",
      "-----------\n",
      "Estado:  Q0.   Lambda Clausura:  {Q0,Q2,Q3}\n",
      "\n",
      "Delta'(Q0, a) =  $[Delta($[Q0],a)] =  $[Delta( {Q0,Q2,Q3} , a)] =  $[ {Q0} ] =  {Q0,Q2,Q3}\n",
      "Delta'(Q0, b) =  $[Delta($[Q0],b)] =  $[Delta( {Q0,Q2,Q3} , b)] =  $[ {Q1,Q3} ] =  {Q1,Q3}\n",
      "\n",
      "Estado:  Q1.   Lambda Clausura:  {Q1}\n",
      "\n",
      "Delta'(Q1, a) =  $[Delta($[Q1],a)] =  $[Delta( {Q1} , a)] =  $[ {Q2} ] =  {Q2,Q3}\n",
      "Delta'(Q1, b) =  $[Delta($[Q1],b)] =  $[Delta( {Q1} , b)] =  $[ {} ] =  {}\n",
      "\n",
      "Estado:  Q2.   Lambda Clausura:  {Q2,Q3}\n",
      "\n",
      "Delta'(Q2, a) =  $[Delta($[Q2],a)] =  $[Delta( {Q2,Q3} , a)] =  $[ {} ] =  {}\n",
      "Delta'(Q2, b) =  $[Delta($[Q2],b)] =  $[Delta( {Q2,Q3} , b)] =  $[ {Q1,Q3} ] =  {Q1,Q3}\n",
      "\n",
      "Estado:  Q3.   Lambda Clausura:  {Q3}\n",
      "\n",
      "Delta'(Q3, a) =  $[Delta($[Q3],a)] =  $[Delta( {Q3} , a)] =  $[ {} ] =  {}\n",
      "Delta'(Q3, b) =  $[Delta($[Q3],b)] =  $[Delta( {Q3} , b)] =  $[ {Q3} ] =  {Q3}\n",
      "\n",
      "Estados antiguos:\n",
      "['Q0', 'Q1', 'Q2', 'Q3']\n",
      "\n",
      "Función de transición antigua:\n",
      "['Q0', 'Q0', 'a']\n",
      "['Q0', 'Q2', '$']\n",
      "['Q2', 'Q1', 'b']\n",
      "['Q1', 'Q2', 'a']\n",
      "['Q2', 'Q3', '$']\n",
      "['Q3', 'Q3', 'b']\n",
      "\n",
      "Estados nuevos:\n",
      "['Q0', 'Q1', 'Q2', 'Q3']\n",
      "\n",
      "Función de transición nueva:\n",
      "['Q0', 'Q0', 'a']\n",
      "['Q0', 'Q2', 'a']\n",
      "['Q0', 'Q3', 'a']\n",
      "['Q0', 'Q1', 'b']\n",
      "['Q0', 'Q3', 'b']\n",
      "['Q1', 'Q2', 'a']\n",
      "['Q1', 'Q3', 'a']\n",
      "['Q2', 'Q1', 'b']\n",
      "['Q2', 'Q3', 'b']\n",
      "['Q3', 'Q3', 'b']\n",
      "\n"
     ]
    },
    {
     "data": {
      "text/plain": [
       "<__main__.AFN at 0x26be1823e48>"
      ]
     },
     "execution_count": 32,
     "metadata": {},
     "output_type": "execute_result"
    }
   ],
   "source": [
    "transformador.AFN_LambdaToAFN(afnLambda)"
   ]
  },
  {
   "cell_type": "markdown",
   "metadata": {},
   "source": [
    "### AFNLambda a AFD."
   ]
  },
  {
   "cell_type": "code",
   "execution_count": 33,
   "metadata": {},
   "outputs": [
    {
     "name": "stdout",
     "output_type": "stream",
     "text": [
      "-----------\n",
      "Conversión de autómata con transiciones Lambda a no determinista.\n",
      "-----------\n",
      "Estado:  Q0.   Lambda Clausura:  {Q0,Q2,Q3}\n",
      "\n",
      "Delta'(Q0, a) =  $[Delta($[Q0],a)] =  $[Delta( {Q0,Q2,Q3} , a)] =  $[ {Q0} ] =  {Q0,Q2,Q3}\n",
      "Delta'(Q0, b) =  $[Delta($[Q0],b)] =  $[Delta( {Q0,Q2,Q3} , b)] =  $[ {Q1,Q3} ] =  {Q1,Q3}\n",
      "\n",
      "Estado:  Q1.   Lambda Clausura:  {Q1}\n",
      "\n",
      "Delta'(Q1, a) =  $[Delta($[Q1],a)] =  $[Delta( {Q1} , a)] =  $[ {Q2} ] =  {Q2,Q3}\n",
      "Delta'(Q1, b) =  $[Delta($[Q1],b)] =  $[Delta( {Q1} , b)] =  $[ {} ] =  {}\n",
      "\n",
      "Estado:  Q2.   Lambda Clausura:  {Q2,Q3}\n",
      "\n",
      "Delta'(Q2, a) =  $[Delta($[Q2],a)] =  $[Delta( {Q2,Q3} , a)] =  $[ {} ] =  {}\n",
      "Delta'(Q2, b) =  $[Delta($[Q2],b)] =  $[Delta( {Q2,Q3} , b)] =  $[ {Q1,Q3} ] =  {Q1,Q3}\n",
      "\n",
      "Estado:  Q3.   Lambda Clausura:  {Q3}\n",
      "\n",
      "Delta'(Q3, a) =  $[Delta($[Q3],a)] =  $[Delta( {Q3} , a)] =  $[ {} ] =  {}\n",
      "Delta'(Q3, b) =  $[Delta($[Q3],b)] =  $[Delta( {Q3} , b)] =  $[ {Q3} ] =  {Q3}\n",
      "\n",
      "Estados antiguos:\n",
      "['Q0', 'Q1', 'Q2', 'Q3']\n",
      "\n",
      "Función de transición antigua:\n",
      "['Q0', 'Q0', 'a']\n",
      "['Q0', 'Q2', '$']\n",
      "['Q2', 'Q1', 'b']\n",
      "['Q1', 'Q2', 'a']\n",
      "['Q2', 'Q3', '$']\n",
      "['Q3', 'Q3', 'b']\n",
      "\n",
      "Estados nuevos:\n",
      "['Q0', 'Q1', 'Q2', 'Q3']\n",
      "\n",
      "Función de transición nueva:\n",
      "['Q0', 'Q0', 'a']\n",
      "['Q0', 'Q2', 'a']\n",
      "['Q0', 'Q3', 'a']\n",
      "['Q0', 'Q1', 'b']\n",
      "['Q0', 'Q3', 'b']\n",
      "['Q1', 'Q2', 'a']\n",
      "['Q1', 'Q3', 'a']\n",
      "['Q2', 'Q1', 'b']\n",
      "['Q2', 'Q3', 'b']\n",
      "['Q3', 'Q3', 'b']\n",
      "\n",
      "-----------\n",
      "Conversión de autómata no-determinista a determinista.\n",
      "-----------\n",
      "Estados antiguos:\n",
      "['Q0', 'Q1', 'Q2', 'Q3']\n",
      "\n",
      "Función de transición antigua:\n",
      "['Q0', 'Q0', 'a']\n",
      "['Q0', 'Q2', 'a']\n",
      "['Q0', 'Q3', 'a']\n",
      "['Q0', 'Q1', 'b']\n",
      "['Q0', 'Q3', 'b']\n",
      "['Q1', 'Q2', 'a']\n",
      "['Q1', 'Q3', 'a']\n",
      "['Q2', 'Q1', 'b']\n",
      "['Q2', 'Q3', 'b']\n",
      "['Q3', 'Q3', 'b']\n",
      "\n",
      "Estados nuevos:\n",
      "['{Q0}', '{Q1}', '{Q2}', '{Q3}', '{Q0,Q2,Q3}', '{Q2,Q3}', '{Q1,Q3}']\n",
      "\n",
      "Función de transición nueva:\n",
      "['{Q0}', '{Q0,Q2,Q3}', 'a']\n",
      "['{Q1}', '{Q2,Q3}', 'a']\n",
      "['{Q0}', '{Q1,Q3}', 'b']\n",
      "['{Q2}', '{Q1,Q3}', 'b']\n",
      "['{Q3}', '{Q3}', 'b']\n",
      "['{Q0,Q2,Q3}', '{Q0,Q2,Q3}', 'a']\n",
      "['{Q1,Q3}', '{Q2,Q3}', 'a']\n",
      "['{Q0,Q2,Q3}', '{Q1,Q3}', 'b']\n",
      "['{Q2,Q3}', '{Q1,Q3}', 'b']\n",
      "['{Q1,Q3}', '{Q3}', 'b']\n",
      "\n"
     ]
    },
    {
     "data": {
      "text/plain": [
       "<__main__.AFN at 0x26be04762b0>"
      ]
     },
     "execution_count": 33,
     "metadata": {},
     "output_type": "execute_result"
    }
   ],
   "source": [
    "transformador.AFN_LambdaToAFD(afnLambda)"
   ]
  },
  {
   "cell_type": "markdown",
   "metadata": {},
   "source": [
    "### Simplificiar Autómatas."
   ]
  },
  {
   "cell_type": "code",
   "execution_count": 34,
   "metadata": {},
   "outputs": [
    {
     "name": "stdout",
     "output_type": "stream",
     "text": [
      "Nuevos estados del autómata: \n",
      "['{Q0,Q4}', '{Q1,Q2,Q3,Q5}']\n",
      "\n",
      "Nueva transición delta:\n",
      "['{Q0,Q4}', '{Q1,Q2,Q3,Q5}', '0']\n",
      "['{Q0,Q4}', '{Q1,Q2,Q3,Q5}', '1']\n",
      "['{Q1,Q2,Q3,Q5}', '{Q0,Q4}', '0']\n",
      "['{Q1,Q2,Q3,Q5}', '{Q1,Q2,Q3,Q5}', '1']\n",
      "\n",
      "Nuevo estado inicial:\n",
      "{Q0,Q4}\n",
      "\n",
      "Nuevos estados de aceptación:\n",
      "['{Q0,Q4}']\n",
      "\n",
      "Resultado algorítmo por llenado de tabla.\n",
      "1 \n",
      "1 E \n",
      "1 E E \n",
      "E 1 1 1 \n",
      "1 E E E 1 \n"
     ]
    },
    {
     "data": {
      "text/plain": [
       "<__main__.AFN at 0x26be98b9860>"
      ]
     },
     "execution_count": 34,
     "metadata": {},
     "output_type": "execute_result"
    }
   ],
   "source": [
    "# Parámetros del AFD1.\n",
    "alphabet = [\"0\", \"1\"]\n",
    "initial_state = \"Q0\"\n",
    "states = [\"Q0\", \"Q1\", \"Q2\", \"Q3\", \"Q4\", \"Q5\"]\n",
    "delta = [\n",
    "          [\"Q0\", \"Q1\", \"1\"], \n",
    "          [\"Q0\", \"Q3\", \"0\"], \n",
    "    \n",
    "          [\"Q1\", \"Q1\", \"1\"],\n",
    "          [\"Q1\", \"Q4\", \"0\"],\n",
    "    \n",
    "          [\"Q3\", \"Q4\", \"0\"],\n",
    "          [\"Q3\", \"Q3\", \"1\"],\n",
    "    \n",
    "          [\"Q4\", \"Q2\", \"1\"],\n",
    "          [\"Q4\", \"Q5\", \"0\"],\n",
    "    \n",
    "          [\"Q2\", \"Q1\", \"1\"],\n",
    "          [\"Q2\", \"Q4\", \"0\"],\n",
    "    \n",
    "          [\"Q5\", \"Q4\", \"0\"],\n",
    "          [\"Q5\", \"Q3\", \"1\"],\n",
    "        ]\n",
    "# Iniciar AFD1.\n",
    "afd1 = AFD(alphabet = alphabet, \n",
    "          initial_state = initial_state, \n",
    "          valid_states = [\"Q0\", \"Q4\"], \n",
    "          states = states, \n",
    "          delta = delta\n",
    "         )\n",
    "\n",
    "transformador = TransformadorAutomatas()\n",
    "transformador.simplificarAFD(afd1, imprimirResultados = True)"
   ]
  },
  {
   "cell_type": "code",
   "execution_count": 35,
   "metadata": {},
   "outputs": [
    {
     "name": "stdout",
     "output_type": "stream",
     "text": [
      "Nuevos estados del autómata: \n",
      "['{Q0,Q3}', '{Q1,Q4}', '{Q2,Q5}']\n",
      "\n",
      "Nueva transición delta:\n",
      "['{Q0,Q3}', '{Q1,Q4}', 'a']\n",
      "['{Q1,Q4}', '{Q2,Q5}', 'a']\n",
      "['{Q2,Q5}', '{Q0,Q3}', 'a']\n",
      "\n",
      "Nuevo estado inicial:\n",
      "{Q0,Q3}\n",
      "\n",
      "Nuevos estados de aceptación:\n",
      "['{Q1,Q4}']\n",
      "\n",
      "Resultado algorítmo por llenado de tabla.\n",
      "1 \n",
      "2 1 \n",
      "E 1 2 \n",
      "1 E 1 1 \n",
      "2 1 E 2 1 \n"
     ]
    },
    {
     "data": {
      "text/plain": [
       "<__main__.AFN at 0x26be98b9780>"
      ]
     },
     "execution_count": 35,
     "metadata": {},
     "output_type": "execute_result"
    }
   ],
   "source": [
    "# Parámetros del AFN.\n",
    "alphabet = [\"a\"]\n",
    "initial_state = \"Q0\"\n",
    "states = [\"Q0\", \"Q1\", \"Q2\", \"Q3\", \"Q4\", \"Q5\"]\n",
    "delta = [\n",
    "          [\"Q0\", \"Q1\", \"a\"], \n",
    "          [\"Q1\", \"Q2\", \"a\"], \n",
    "          [\"Q2\", \"Q3\", \"a\"], \n",
    "          [\"Q3\", \"Q4\", \"a\"], \n",
    "          [\"Q4\", \"Q5\", \"a\"],\n",
    "          [\"Q5\", \"Q0\", \"a\"]\n",
    "        ]\n",
    "\n",
    "# Iniciar AFN.\n",
    "afd_prueba = AFD(alphabet = alphabet, \n",
    "          initial_state = initial_state, \n",
    "          valid_states = [\"Q1\", \"Q4\"], \n",
    "          states = states, \n",
    "          delta = delta\n",
    "         )\n",
    "transformador.simplificarAFD(afd_prueba, imprimirResultados = True)"
   ]
  },
  {
   "cell_type": "markdown",
   "metadata": {},
   "source": [
    "### Hallar producto cartesiano."
   ]
  },
  {
   "cell_type": "code",
   "execution_count": 36,
   "metadata": {},
   "outputs": [],
   "source": [
    "# Parámetros del AFD1.\n",
    "alphabet = [\"a\", \"b\"]\n",
    "initial_state = \"Q1\"\n",
    "states = [\"Q1\", \"Q3\"]\n",
    "delta = [\n",
    "          [\"Q1\", \"Q3\", \"a\"], \n",
    "          [\"Q3\", \"Q1\", \"a\"], \n",
    "          [\"Q1\", \"Q1\", \"b\"], \n",
    "          [\"Q3\", \"Q3\", \"b\"], \n",
    "        ]\n",
    "# Iniciar AFD1.\n",
    "afd1 = AFD(alphabet = alphabet, \n",
    "          initial_state = initial_state, \n",
    "          valid_states = [\"Q1\"], \n",
    "          states = states, \n",
    "          delta = delta\n",
    "         )\n",
    "\n",
    "# Parámetros del AFD2.\n",
    "alphabet = [\"a\", \"b\"]\n",
    "initial_state = \"Q2\"\n",
    "states = [\"Q2\", \"Q4\"]\n",
    "delta = [\n",
    "          [\"Q2\", \"Q4\", \"b\"], \n",
    "          [\"Q2\", \"Q2\", \"a\"], \n",
    "          [\"Q4\", \"Q4\", \"a\"], \n",
    "          [\"Q4\", \"Q2\", \"b\"], \n",
    "        ]\n",
    "# Iniciar AFD1.\n",
    "afd2 = AFD(alphabet = alphabet, \n",
    "          initial_state = initial_state, \n",
    "          valid_states = [\"Q2\"], \n",
    "          states = states, \n",
    "          delta = delta\n",
    "         )"
   ]
  },
  {
   "cell_type": "code",
   "execution_count": 37,
   "metadata": {},
   "outputs": [
    {
     "name": "stdout",
     "output_type": "stream",
     "text": [
      "Delta((Q1,Q2),a) = (Delta_1(Q1,a),Delta_2(Q2,a)) = (Q3,Q2)\n",
      "Delta((Q1,Q2),b) = (Delta_1(Q1,b),Delta_2(Q2,b)) = (Q1,Q4)\n",
      "Delta((Q1,Q4),a) = (Delta_1(Q1,a),Delta_2(Q4,a)) = (Q3,Q4)\n",
      "Delta((Q1,Q4),b) = (Delta_1(Q1,b),Delta_2(Q4,b)) = (Q1,Q2)\n",
      "Delta((Q3,Q2),a) = (Delta_1(Q3,a),Delta_2(Q2,a)) = (Q1,Q2)\n",
      "Delta((Q3,Q2),b) = (Delta_1(Q3,b),Delta_2(Q2,b)) = (Q3,Q4)\n",
      "Delta((Q3,Q4),a) = (Delta_1(Q3,a),Delta_2(Q4,a)) = (Q1,Q4)\n",
      "Delta((Q3,Q4),b) = (Delta_1(Q3,b),Delta_2(Q4,b)) = (Q3,Q2)\n",
      "\n",
      "#!dfa\n",
      "#states\n",
      "{Q1,Q2}\n",
      "{Q1,Q4}\n",
      "{Q3,Q2}\n",
      "{Q3,Q4}\n",
      "#initial\n",
      "{Q1,Q2}\n",
      "#accepting\n",
      "{Q1,Q2}\n",
      "#inaccessible\n",
      "#limbo\n",
      "#transitions\n",
      "{Q1,Q2}:a>{Q3,Q2}\n",
      "{Q1,Q2}:b>{Q1,Q4}\n",
      "{Q1,Q4}:a>{Q3,Q4}\n",
      "{Q1,Q4}:b>{Q1,Q2}\n",
      "{Q3,Q2}:a>{Q1,Q2}\n",
      "{Q3,Q2}:b>{Q3,Q4}\n",
      "{Q3,Q4}:a>{Q1,Q4}\n",
      "{Q3,Q4}:b>{Q3,Q2}\n"
     ]
    }
   ],
   "source": [
    "newAFD = transformador.hallarProductoCartesianoY(afd1, afd2)\n",
    "print(\"\")\n",
    "newAFD.toString()"
   ]
  },
  {
   "cell_type": "code",
   "execution_count": 38,
   "metadata": {},
   "outputs": [
    {
     "name": "stdout",
     "output_type": "stream",
     "text": [
      "Delta((Q1,Q2),a) = (Delta_1(Q1,a),Delta_2(Q2,a)) = (Q3,Q2)\n",
      "Delta((Q1,Q2),b) = (Delta_1(Q1,b),Delta_2(Q2,b)) = (Q1,Q4)\n",
      "Delta((Q1,Q4),a) = (Delta_1(Q1,a),Delta_2(Q4,a)) = (Q3,Q4)\n",
      "Delta((Q1,Q4),b) = (Delta_1(Q1,b),Delta_2(Q4,b)) = (Q1,Q2)\n",
      "Delta((Q3,Q2),a) = (Delta_1(Q3,a),Delta_2(Q2,a)) = (Q1,Q2)\n",
      "Delta((Q3,Q2),b) = (Delta_1(Q3,b),Delta_2(Q2,b)) = (Q3,Q4)\n",
      "Delta((Q3,Q4),a) = (Delta_1(Q3,a),Delta_2(Q4,a)) = (Q1,Q4)\n",
      "Delta((Q3,Q4),b) = (Delta_1(Q3,b),Delta_2(Q4,b)) = (Q3,Q2)\n",
      "\n",
      "#!dfa\n",
      "#states\n",
      "{Q1,Q2}\n",
      "{Q1,Q4}\n",
      "{Q3,Q2}\n",
      "{Q3,Q4}\n",
      "#initial\n",
      "{Q1,Q2}\n",
      "#accepting\n",
      "{Q1,Q4}\n",
      "#inaccessible\n",
      "#limbo\n",
      "#transitions\n",
      "{Q1,Q2}:a>{Q3,Q2}\n",
      "{Q1,Q2}:b>{Q1,Q4}\n",
      "{Q1,Q4}:a>{Q3,Q4}\n",
      "{Q1,Q4}:b>{Q1,Q2}\n",
      "{Q3,Q2}:a>{Q1,Q2}\n",
      "{Q3,Q2}:b>{Q3,Q4}\n",
      "{Q3,Q4}:a>{Q1,Q4}\n",
      "{Q3,Q4}:b>{Q3,Q2}\n"
     ]
    }
   ],
   "source": [
    "newAFD = transformador.hallarProductoCartesianoDiferencia(afd1, afd2)\n",
    "print(\"\")\n",
    "newAFD.toString()"
   ]
  },
  {
   "cell_type": "markdown",
   "metadata": {},
   "source": [
    "### Hallar complemento."
   ]
  },
  {
   "cell_type": "code",
   "execution_count": 39,
   "metadata": {},
   "outputs": [
    {
     "name": "stdout",
     "output_type": "stream",
     "text": [
      "***Autómata Original: ***\n",
      "#!dfa\n",
      "#states\n",
      "Q0\n",
      "Q1\n",
      "Q2\n",
      "Q3\n",
      "Q4\n",
      "#initial\n",
      "Q0\n",
      "#accepting\n",
      "Q0\n",
      "#inaccessible\n",
      "Q4\n",
      "#limbo\n",
      "Q1\n",
      "Q2\n",
      "Q3\n",
      "Q4\n",
      "#transitions\n",
      "Q0:a>Q0\n",
      "Q0:b>Q1\n",
      "Q1:a>Q2\n",
      "Q1:b>Q1\n",
      "Q2:a>Q2\n",
      "Q2:b>Q3\n",
      "Q3:a>Q3\n",
      "Q3:b>Q3\n",
      "Q4:a>Q2\n",
      "Q4:b>Q3\n",
      "\n",
      "***Autómata Complemento: ***\n",
      "#!dfa\n",
      "#states\n",
      "Q0\n",
      "Q1\n",
      "Q2\n",
      "Q3\n",
      "Q4\n",
      "#initial\n",
      "Q0\n",
      "#accepting\n",
      "Q1\n",
      "Q2\n",
      "Q3\n",
      "Q4\n",
      "#inaccessible\n",
      "Q4\n",
      "#limbo\n",
      "#transitions\n",
      "Q0:a>Q0\n",
      "Q0:b>Q1\n",
      "Q1:a>Q2\n",
      "Q1:b>Q1\n",
      "Q2:a>Q2\n",
      "Q2:b>Q3\n",
      "Q3:a>Q3\n",
      "Q3:b>Q3\n",
      "Q4:a>Q2\n",
      "Q4:b>Q3\n"
     ]
    }
   ],
   "source": [
    "print(\"***Autómata Original: ***\")\n",
    "afd.toString()\n",
    "print(\"\")\n",
    "\n",
    "print(\"***Autómata Complemento: ***\")\n",
    "transformador.hallarComplemento(afd).toString()"
   ]
  },
  {
   "cell_type": "markdown",
   "metadata": {},
   "source": [
    "### Validar autómatas."
   ]
  },
  {
   "cell_type": "code",
   "execution_count": 40,
   "metadata": {},
   "outputs": [
    {
     "name": "stdout",
     "output_type": "stream",
     "text": [
      "\n",
      "---Autómata AFN No.1---\n",
      "* Número de casos en el que se obtuvo: *\n",
      "1. Mismo resultado:  5000\n",
      "2. Resultado diferente:  0\n",
      "\n",
      "* Cadenas que dieron diferentes resultados: *\n",
      "\n"
     ]
    }
   ],
   "source": [
    "filename = \"./archivoAutomata2.txt\"\n",
    "automata_prueba = AFN(filename = filename)\n",
    "validar = ClaseValidacion()\n",
    "lista_prueba = [automata_prueba]\n",
    "validar.validarAFNtoAFD(lista_prueba)"
   ]
  },
  {
   "cell_type": "code",
   "execution_count": 41,
   "metadata": {},
   "outputs": [
    {
     "name": "stdout",
     "output_type": "stream",
     "text": [
      "\n",
      "Autómata AFNLambda No.1---\n",
      "-- Número de casos en el que se obtuvo: --\n",
      "1. Mismo resultado:  5000\n",
      "2. Resultado diferente:  0\n",
      "\n",
      "-- Cadenas que dieron diferentes resultados: --\n",
      "\n"
     ]
    }
   ],
   "source": [
    "filename = \"./archivoAutomata.txt\"\n",
    "automata_prueba = AFNLambda(filename = filename)\n",
    "validar = ClaseValidacion()\n",
    "lista_prueba = [automata_prueba]\n",
    "validar.validarAFNLambdaToAFN(lista_prueba)"
   ]
  }
 ],
 "metadata": {
  "kernelspec": {
   "display_name": "Python 3",
   "language": "python",
   "name": "python3"
  },
  "language_info": {
   "codemirror_mode": {
    "name": "ipython",
    "version": 3
   },
   "file_extension": ".py",
   "mimetype": "text/x-python",
   "name": "python",
   "nbconvert_exporter": "python",
   "pygments_lexer": "ipython3",
   "version": "3.7.3"
  }
 },
 "nbformat": 4,
 "nbformat_minor": 2
}
