{
 "cells": [
  {
   "cell_type": "markdown",
   "metadata": {},
   "source": [
    "# Autómatas: AFD, AFN y AFN-Lambda"
   ]
  },
  {
   "cell_type": "code",
   "execution_count": 47,
   "metadata": {},
   "outputs": [],
   "source": [
    "# Import libraries.\n",
    "import numbers\n",
    "import math\n",
    "import numpy as np\n",
    "import matplotlib.pyplot as plt"
   ]
  },
  {
   "cell_type": "markdown",
   "metadata": {},
   "source": [
    "#### 1. Clase Autómata\n",
    "\n",
    "---\n",
    "\n",
    "\n",
    "Lorem Ipsum es simplemente el texto de relleno de las imprentas y archivos de texto. Lorem Ipsum ha sido el texto de relleno estándar de las industrias desde el año 1500, cuando un impresor (N. del T. persona que se dedica a la imprenta) desconocido usó una galería de textos y los mezcló de tal manera que logró hacer un libro de textos especimen. \n",
    "\n",
    "<img src = \"https://upload.wikimedia.org/wikipedia/commons/thumb/9/9d/DFAexample.svg/400px-DFAexample.svg.png\" width = \"200px\">"
   ]
  },
  {
   "cell_type": "code",
   "execution_count": 293,
   "metadata": {},
   "outputs": [],
   "source": [
    "class Automata:\n",
    "    \n",
    "    def __init__(self, language = [], initial_state = 0, states = [], valid_states = [], delta = []):\n",
    "        \n",
    "        self.initial_state = initial_state\n",
    "        self.language = language\n",
    "        self.valid_states = valid_states\n",
    "        self.adjMatrix = self.generarMatrizAdyacencia(states, delta)\n",
    "        self.type = self.determinarTipoAutomata()\n",
    "    \n",
    "    def generarMatrizAdyacencia(self, states, delta):\n",
    "        \n",
    "        # Create matrix object.\n",
    "        adjMatrix = list()\n",
    "        \n",
    "        # Number of layers of the adyacency matrix (depth).\n",
    "        n = len(states)\n",
    "        for i in range(len(self.language)):\n",
    "              adjMatrix.append(np.zeros((n, n)))\n",
    "                \n",
    "        # Delta codifies the edges between nodes.\n",
    "        for edge in delta:\n",
    "            \n",
    "            # Example: edge = [\"q0\", \"q1\", \"a\"]\n",
    "            # Get states number.\n",
    "            first_state = states.index(edge[0])\n",
    "            second_state = states.index(edge[1])\n",
    "            \n",
    "            # Get instruction.\n",
    "            instruction = self.language.index(edge[2])\n",
    "            \n",
    "            # Add new edge.\n",
    "            adjMatrix[instruction][first_state][second_state] = 1\n",
    "            \n",
    "        # Return adyacency matrix.\n",
    "        return adjMatrix\n",
    "\n",
    "    # Utility functions.\n",
    "    def obtenerNumerosEstadosAccesibles(self, current_state, instruction):\n",
    "        layer = self.adjMatrix[instruction]\n",
    "        bridges = layer[current_state]\n",
    "        numbers = list()\n",
    "        for b in range(len(bridges)):\n",
    "            if bridges[b] == 1: numbers.append(b)\n",
    "        return numbers\n",
    "    \n",
    "    def corroborarAceptacion(self, acceptanceList):\n",
    "        if 1 in acceptanceList: return 1\n",
    "        else: return 0   \n",
    "        \n",
    "    def determinarTipoAutomata(self): \n",
    "        \n",
    "        \"\"\"\n",
    "        Type      Code\n",
    "        ---------------\n",
    "        AFD       0\n",
    "        AFN       1\n",
    "        AFN-e     2\n",
    "        \"\"\"\n",
    "        if \"e\" in self.language: return 2\n",
    "        else: \n",
    "            deterministic = True\n",
    "            for instruction in self.language: \n",
    "                layer = self.adjMatrix[self.language.index(instruction)]\n",
    "                for row_index in range(len(layer)):\n",
    "                    lista = self.obtenerNumerosEstadosAccesibles(\n",
    "                        row_index, \n",
    "                        self.language.index(instruction)\n",
    "                    )\n",
    "                    if len(lista) > 1: \n",
    "                        return 1\n",
    "                    if len(lista) == 0:\n",
    "                        deterministic = False\n",
    "        if deterministic: \n",
    "            return 0\n",
    "        else: \n",
    "            raise Exception(\"Todas las transiciones tienen que estar definidas!\")\n",
    "            \n",
    "    def _obtenerSecuenciaEstadoInstruccion(self, cadena, recorrido):\n",
    "        secuencia = list()\n",
    "        for i in range(len(recorrido)): \n",
    "            try:\n",
    "                secuencia.append((recorrido[i], cadena[i]))\n",
    "            except:\n",
    "                secuencia.append((recorrido[i], \"\"))\n",
    "        print(secuencia)\n",
    "        return secuencia "
   ]
  },
  {
   "cell_type": "code",
   "execution_count": 294,
   "metadata": {},
   "outputs": [],
   "source": [
    "delta = [\n",
    "          [\"q0\", \"q0\", \"a\"], \n",
    "          [\"q0\", \"q1\", \"b\"], \n",
    "          [\"q1\", \"q1\", \"b\"], \n",
    "          [\"q1\", \"q0\", \"a\"], \n",
    "        ]\n",
    "\n",
    "autom = Automata(language = [\"a\", \"b\"], states = [\"q0\", \"q1\"], delta = delta)"
   ]
  },
  {
   "cell_type": "markdown",
   "metadata": {},
   "source": [
    "#### 2. Autómatas Deterministas."
   ]
  },
  {
   "cell_type": "code",
   "execution_count": 314,
   "metadata": {},
   "outputs": [],
   "source": [
    "class AFD(Automata):\n",
    "    def __init__(self, language, initial_state, states, valid_states, delta): \n",
    "        super().__init__(language, initial_state, states, valid_states, delta)\n",
    "        if self.type != 0: raise Exception(\"Los argumentos ingresados, no corresponden a un autómata determinista.\")\n",
    "        \n",
    "    def procesarCadena(self, cadena):\n",
    "        print(self.__procesar(cadena)[1] == 1)\n",
    "    \n",
    "    def procesarCadenaConDetalles(self, cadena): \n",
    "        process = self.__procesar(cadena)\n",
    "        print(process[1] == 1)\n",
    "        print(process[0])\n",
    "    \n",
    "    def procesarListaCadenas(self, listaCadenas, nombreArchivo, imprimirPantalla): \n",
    "        \n",
    "        try:\n",
    "            file = open(nombreArchivo, \"w+\")\n",
    "        except: \n",
    "            file = open(\"resultadosAFD.txt\", )\n",
    "            \n",
    "        for cadena in listaCadenas: \n",
    "            process = self.__procesar(cadena)\n",
    "            secuencia = self._obtenerSecuenciaEstadoInstruccion(\n",
    "                cadena,    # cadena\n",
    "                process[0] # recorrido\n",
    "            )\n",
    "            file.write(cadena + \"\\t\")\n",
    "            for pareja in secuencia:\n",
    "                file.write(str(pareja) + \"\\t\")\n",
    "            if process[1] == 1: aceptado = \"Si\"\n",
    "            else: aceptado = \"No\"\n",
    "            file.write(aceptado + \"\\n\")\n",
    "        \n",
    "        f.close()\n",
    "        return \"Archivo creado con éxito\"\n",
    "\n",
    "    def __procesar(self, cadena, current_state = 0):\n",
    "        \n",
    "        # If chain is not null.\n",
    "        if cadena != \"\":\n",
    "            \n",
    "            # Get next state number given by instruction in the chain.\n",
    "            newState = self.obtenerNumerosEstadosAccesibles(\n",
    "                current_state, \n",
    "                self.language.index(cadena[0])   \n",
    "            )\n",
    "            #print(\"New State: \", newState)\n",
    "            newState = newState[0]\n",
    "\n",
    "            # Move to next state.\n",
    "            memory = self.__procesar(cadena[1:], current_state = newState)\n",
    "            memory[0] = str(current_state) + memory[0]\n",
    "            return memory\n",
    "\n",
    "        # If chain is null.\n",
    "        else: \n",
    "            if current_state in self.valid_states:\n",
    "                return [str(current_state), 1]    # Accepted.\n",
    "            else:\n",
    "                return [str(current_state), -1]   # Rejected."
   ]
  },
  {
   "cell_type": "code",
   "execution_count": 315,
   "metadata": {},
   "outputs": [],
   "source": [
    "language = [\"a\", \"b\"]\n",
    "initial_state = 0\n",
    "states = [\"q0\", \"q1\"]\n",
    "delta = [\n",
    "          [\"q0\", \"q0\", \"a\"], \n",
    "          [\"q0\", \"q1\", \"b\"], \n",
    "          [\"q1\", \"q1\", \"b\"], \n",
    "          [\"q1\", \"q0\", \"a\"], \n",
    "        ]\n",
    "afd = AFD(language = language, \n",
    "          initial_state = initial_state, \n",
    "          valid_states = [0], \n",
    "          states = states, \n",
    "          delta = delta)"
   ]
  },
  {
   "cell_type": "code",
   "execution_count": 316,
   "metadata": {},
   "outputs": [
    {
     "name": "stdout",
     "output_type": "stream",
     "text": [
      "False\n",
      "00100000101\n"
     ]
    }
   ],
   "source": [
    "afd.procesarCadenaConDetalles(\"abaaaaabab\")"
   ]
  },
  {
   "cell_type": "code",
   "execution_count": 317,
   "metadata": {},
   "outputs": [
    {
     "name": "stdout",
     "output_type": "stream",
     "text": [
      "[('0', 'a'), ('0', 'b'), ('1', 'a'), ('0', 'a'), ('0', 'a'), ('0', 'a'), ('0', 'a'), ('0', 'b'), ('1', 'a'), ('0', 'b'), ('1', '')]\n"
     ]
    },
    {
     "data": {
      "text/plain": [
       "'Archivo creado con éxito'"
      ]
     },
     "execution_count": 317,
     "metadata": {},
     "output_type": "execute_result"
    }
   ],
   "source": [
    "afd.procesarListaCadenas([\"abaaaaabab\"], \"res.txt\", True)"
   ]
  },
  {
   "cell_type": "code",
   "execution_count": 249,
   "metadata": {},
   "outputs": [
    {
     "data": {
      "text/plain": [
       "8"
      ]
     },
     "execution_count": 249,
     "metadata": {},
     "output_type": "execute_result"
    }
   ],
   "source": [
    "len(\"abaaaaab\")"
   ]
  },
  {
   "cell_type": "code",
   "execution_count": 250,
   "metadata": {},
   "outputs": [
    {
     "data": {
      "text/plain": [
       "10"
      ]
     },
     "execution_count": 250,
     "metadata": {},
     "output_type": "execute_result"
    }
   ],
   "source": [
    "len(\"0010000010\")"
   ]
  },
  {
   "cell_type": "markdown",
   "metadata": {},
   "source": [
    "#### 3. Autómatas No-Deterministas."
   ]
  },
  {
   "cell_type": "code",
   "execution_count": 150,
   "metadata": {},
   "outputs": [],
   "source": [
    "class AFN(Automata):\n",
    "    def __init__(self, language, initial_state, states, valid_states, delta): \n",
    "        super().__init__(language, initial_state, states, valid_states, delta)\n",
    "        if self.type != 1: raise Exception(\"Los argumentos ingresados, no corresponden a un autómata no determinista.\")\n",
    "        self.procesador = ProcesamientoCadenaAFD()\n",
    "        \n",
    "    def procesarCadena(cadena):\n",
    "        return \"\"\n",
    "    \n",
    "    def procesarCadenaConDetalles(cadena): \n",
    "        return \"\"\n",
    "    \n",
    "    def computarTodosLosProcesamientos(cadena): \n",
    "        return \"\"\n",
    "    \n",
    "    def procesarListaCadenas(listaCadenas, nombreArchivo, imprimirPantalla): \n",
    "        return \"\"\n",
    "    \n",
    "    def procesar(estado_actual, cadena):\n",
    "        \n",
    "    \n",
    "        print(\"Current State: \", current_state)\n",
    "        \n",
    "        # If chain is not null.\n",
    "        if cadena != \"\":\n",
    "            \n",
    "            # Get next state number given by instruction in the chain.\n",
    "            newState = self.obtenerNumerosEstadosAccesibles(\n",
    "                current_state, \n",
    "                self.language.index(cadena[0])   \n",
    "            )[0]\n",
    "            print(\"New State: \", newState)\n",
    "\n",
    "            # Move to next state.\n",
    "            return self.procesar()\n",
    "\n",
    "        \n",
    "        # If chain is null.\n",
    "        else: \n",
    "            print(\"Chain is null!\")\n",
    "            if current_state in self.valid_states:\n",
    "                return 1    # Accepted.\n",
    "            else:\n",
    "                return -1   # Rejected.\n",
    "    "
   ]
  },
  {
   "cell_type": "markdown",
   "metadata": {},
   "source": [
    "#### 4. Autómatas con transiciones lambda."
   ]
  },
  {
   "cell_type": "code",
   "execution_count": 44,
   "metadata": {},
   "outputs": [],
   "source": [
    "class AFNLambda(Automata):\n",
    "    def __init__(self, language, initial_state, states, valid_states, delta): \n",
    "        super().__init__(language, initial_state, states, valid_states, delta)\n",
    "        if self.type != 2: raise Exception(\"Los argumentos ingresados, no corresponden a un autómata con transiciones lambda.\")\n",
    "        procesador = ProcesamientoCadenaAFNLambda()\n",
    "        \n",
    "    def calcularLambdaClausura(estado):\n",
    "        return \"\"\n",
    "    \n",
    "    def calcularLambdaClausuras(lista_estados):\n",
    "        return \"\"\n",
    "    \n",
    "    def procesarCadena(cadena):\n",
    "        return \"\"\n",
    "    \n",
    "    def procesarCadenaConDetalles(cadena): \n",
    "        return \"\"\n",
    "    \n",
    "    def computarTodosLosProcesamientos(cadena): \n",
    "        return \"\"\n",
    "    \n",
    "    def procesarListaCadenas(listaCadenas, nombreArchivo, imprimirPantalla): \n",
    "        return \"\"\n",
    "    \n",
    "    def procesar(cadena):\n",
    "        return \"\""
   ]
  },
  {
   "cell_type": "markdown",
   "metadata": {},
   "source": [
    "#### 5. Clase Prueba."
   ]
  },
  {
   "cell_type": "code",
   "execution_count": 45,
   "metadata": {},
   "outputs": [],
   "source": [
    "class ClasePrueba:\n",
    "    \n",
    "    def __init__(self):\n",
    "        return \"\"\n",
    "    \n",
    "    \"\"\"\n",
    "    Invoca a los otros para que puedan ser comentados fácilmente y poder \n",
    "    escoger cuál se va a probar.\n",
    "    \"\"\"\n",
    "    def main():\n",
    "        return \"\"\n",
    "    \n",
    "    \"\"\"\n",
    "    Crear autómatas AFD, procesar cadenas con y sin detalles, procesar listas\n",
    "    de cadenas, generar archivos.\n",
    "    \"\"\"\n",
    "    def probarAFD(self):\n",
    "        return \"\"\n",
    "    \n",
    "    \"\"\"\n",
    "    Crear autómatas AFN, procesar cadenas mostrando solo un procesamiento de\n",
    "    aceptación, procesar cadenas mostrando toos los porcesamientos posibles, \n",
    "    consultar los procesamientos de aceptación, abortados y de rechazo.\n",
    "    \"\"\"\n",
    "    def probarAFN():\n",
    "        return \"\"\n",
    "    \n",
    "    \"\"\"\n",
    "    Crear autómatas AFN-Lambda, calcular la Lambda-clausura de un estado, \n",
    "    calcular la Lambda-clausura de un conjunto de estados, procesar cadenas\n",
    "    mostrando solo un procesamiento de aceptación, procesar cadenas mostrando\n",
    "    todos los procesamientos posibles, consultar los procesaminetos de \n",
    "    aceptación, abortado y de rechazo, procesar listas de cadenas, generar \n",
    "    archivos.\n",
    "    \"\"\"\n",
    "    def probarAFNLambda():\n",
    "        return \"\""
   ]
  },
  {
   "cell_type": "code",
   "execution_count": null,
   "metadata": {},
   "outputs": [],
   "source": []
  },
  {
   "cell_type": "code",
   "execution_count": null,
   "metadata": {},
   "outputs": [],
   "source": []
  },
  {
   "cell_type": "code",
   "execution_count": null,
   "metadata": {},
   "outputs": [],
   "source": [
    "   # Get New States Numbers for lambda transition.\n",
    "            #newStatesNumbersLambda = self.getStatesAccesibleNumbers(\n",
    "            #    current_state, \n",
    "            #    self.language.index(\"e\") \n",
    "            #)\n",
    "            #print(current_state, \"new states lamda: \", newStatesNumbersLambda)\n",
    "            \n",
    "            #if newStatesNumbersLambda != []:\n",
    "                    #for newStateLambda in newStatesNumbersLambda:\n",
    "                        #acceptance_list.append(self.processChain(newStateLambda, chain))\n",
    "            "
   ]
  },
  {
   "cell_type": "code",
   "execution_count": 352,
   "metadata": {},
   "outputs": [],
   "source": [
    "# Automata Class.\n",
    "class Automata: \n",
    "    def __init__(self, language = [], initial_state = 0, states = [], valid_states = [], delta = []):\n",
    "        \n",
    "        #self.current_state = initial_state\n",
    "        self.language = language\n",
    "        self.valid_states = valid_states\n",
    "        self.adjMatrix = self.generateAdyacencyMatrix(states, delta)\n",
    "        \n",
    "    def generateAdyacencyMatrix(self, states, delta):\n",
    "        \n",
    "        # Create matrix object.\n",
    "        adjMatrix = list()\n",
    "        \n",
    "        # Number of layers of the adyacency matrix (depth).\n",
    "        n = len(states)\n",
    "        for i in range(len(self.language)):\n",
    "              adjMatrix.append(np.zeros((n, n)))\n",
    "                \n",
    "        # Delta codifies the edges between nodes.\n",
    "        for edge in delta:\n",
    "            \n",
    "            # Example: edge = [\"q0\", \"q1\", \"a\"]\n",
    "            # Get states number.\n",
    "            first_state = states.index(edge[0])\n",
    "            second_state = states.index(edge[1])\n",
    "            \n",
    "            # Get instruction.\n",
    "            instruction = self.language.index(edge[2])\n",
    "            \n",
    "            # Add new edge.\n",
    "            adjMatrix[instruction][first_state][second_state] = 1\n",
    "        \n",
    "        # Return object.\n",
    "        return adjMatrix\n",
    "    \n",
    "    # Process Chain.\n",
    "    def processChain(self, current_state, chain):\n",
    "        \n",
    "        print(\"Current State: \", current_state)\n",
    "        \n",
    "        # If chain is not null.\n",
    "        if chain != \"\":\n",
    "            \n",
    "            # Get New States Numbers for new instruction in the chain.\n",
    "            newStatesNumbers = self.getStatesAccesibleNumbers(\n",
    "                current_state, \n",
    "                self.language.index(chain[0])   \n",
    "            )\n",
    "            newStatesNumbersLambda = self.getStatesAccesibleNumbers(\n",
    "                current_state, \n",
    "                self.language.index(\"e\") \n",
    "            )\n",
    "            print(\"New States Chain: \", newStatesNumbers)\n",
    "            print(\"New States Lambda: \", newStatesNumbersLambda)\n",
    "                    \n",
    "            # If automata can move to new states.\n",
    "            #print(newStatesNumbers)\n",
    "            if newStatesNumbers != []:\n",
    "                acceptance_list = list()\n",
    "                for newState in newStatesNumbers:\n",
    "                    acceptance_list.append(self.processChain(newState, chain[1:]))\n",
    "                for newLambdaState in newStatesNumbersLambda: \n",
    "                    acceptance_list.append(self.processChain(newLambdaState, chain))\n",
    "                return self.checkAcceptance(acceptance_list)\n",
    " \n",
    "            # Aborted! Since there is no where to move.\n",
    "            else: \n",
    "                return 0    # Aborted.       \n",
    "        \n",
    "        # If chain is null.\n",
    "        else: \n",
    "            print(\"Chain is null!\")\n",
    "            if current_state in self.valid_states:\n",
    "                return 1    # Accepted.\n",
    "            else:\n",
    "                return -1   # Rejected.\n",
    "    \n",
    "    # Get functions.\n",
    "    def getAdyacencyMatrix(self, layer = 0):\n",
    "        return (self.adjMatrix[layer])\n",
    "    \n",
    "    def getValidStates(self):\n",
    "        return (self.valid_states)\n",
    "    \n",
    "    # Utility functions.\n",
    "    def getStatesAccesibleNumbers(self, current_state, instruction):\n",
    "        \n",
    "        layer = self.adjMatrix[instruction]\n",
    "        bridges = layer[current_state]\n",
    "        numbers = list()\n",
    "        for b in range(len(bridges)):\n",
    "            if bridges[b] == 1: numbers.append(b)\n",
    "        return numbers\n",
    "    \n",
    "    def checkAcceptance(self, acceptanceList):\n",
    "        if 1 in acceptanceList: return 1\n",
    "        else: return 0"
   ]
  },
  {
   "cell_type": "code",
   "execution_count": 353,
   "metadata": {},
   "outputs": [],
   "source": [
    "\"\"\"\n",
    "delta = [\n",
    "          [\"q0\", \"q0\", \"a\"], \n",
    "          [\"q0\", \"q1\", \"b\"], \n",
    "          [\"q1\", \"q1\", \"b\"], \n",
    "          [\"q1\", \"q0\", \"a\"], \n",
    "        ]\n",
    "delta = [\n",
    "    [\"q0\", \"q0\", \"a\"], \n",
    "    [\"q0\", \"q1\", \"a\"], \n",
    "    [\"q1\", \"q1\", \"b\"], \n",
    "    [\"q1\", \"q0\", \"a\"], \n",
    "    [\"q0\", \"q2\", \"e\"], \n",
    "    [\"q2\", \"q2\", \"a\"],\n",
    "    [\"q2\", \"q1\", \"b\"], \n",
    "]\n",
    "\"\"\"\n",
    "delta = [\n",
    "    [\"q0\", \"q0\", \"a\"], \n",
    "    [\"q0\", \"q1\", \"e\"], \n",
    "]\n",
    "\n",
    "autom = Automata(language = [\"a\", \"b\", \"e\"], \n",
    "                 states = [\"q0\", \"q1\"], \n",
    "                 delta = delta, \n",
    "                 valid_states = [1]\n",
    "                )"
   ]
  },
  {
   "cell_type": "code",
   "execution_count": 354,
   "metadata": {},
   "outputs": [
    {
     "name": "stdout",
     "output_type": "stream",
     "text": [
      "Current State:  0\n",
      "New States Chain:  [0]\n",
      "New States Lambda:  [1]\n",
      "Current State:  0\n",
      "Chain is null!\n",
      "Current State:  1\n",
      "New States Chain:  []\n",
      "New States Lambda:  []\n"
     ]
    },
    {
     "data": {
      "text/plain": [
       "0"
      ]
     },
     "execution_count": 354,
     "metadata": {},
     "output_type": "execute_result"
    }
   ],
   "source": [
    "autom.processChain(0, \"a\")"
   ]
  },
  {
   "cell_type": "code",
   "execution_count": 336,
   "metadata": {},
   "outputs": [
    {
     "data": {
      "text/plain": [
       "array([[0., 1.],\n",
       "       [0., 0.]])"
      ]
     },
     "execution_count": 336,
     "metadata": {},
     "output_type": "execute_result"
    }
   ],
   "source": [
    "autom.getAdyacencyMatrix(2)"
   ]
  },
  {
   "cell_type": "code",
   "execution_count": 1,
   "metadata": {},
   "outputs": [
    {
     "ename": "RuntimeError",
     "evalue": "super(): no arguments",
     "output_type": "error",
     "traceback": [
      "\u001b[1;31m---------------------------------------------------------------------------\u001b[0m",
      "\u001b[1;31mRuntimeError\u001b[0m                              Traceback (most recent call last)",
      "\u001b[1;32m<ipython-input-1-8529f4313189>\u001b[0m in \u001b[0;36m<module>\u001b[1;34m\u001b[0m\n\u001b[1;32m----> 1\u001b[1;33m \u001b[0msuper\u001b[0m\u001b[1;33m(\u001b[0m\u001b[1;33m)\u001b[0m\u001b[1;33m\u001b[0m\u001b[1;33m\u001b[0m\u001b[0m\n\u001b[0m",
      "\u001b[1;31mRuntimeError\u001b[0m: super(): no arguments"
     ]
    }
   ],
   "source": [
    "super()"
   ]
  },
  {
   "cell_type": "code",
   "execution_count": null,
   "metadata": {},
   "outputs": [],
   "source": []
  },
  {
   "cell_type": "code",
   "execution_count": 127,
   "metadata": {},
   "outputs": [
    {
     "data": {
      "text/plain": [
       "[1, 4]"
      ]
     },
     "execution_count": 127,
     "metadata": {},
     "output_type": "execute_result"
    }
   ],
   "source": [
    "autom.getStatesAccesibleNumbers([0, 1, 0, 0, 1])"
   ]
  },
  {
   "cell_type": "code",
   "execution_count": 119,
   "metadata": {},
   "outputs": [
    {
     "data": {
      "text/plain": [
       "0"
      ]
     },
     "execution_count": 119,
     "metadata": {},
     "output_type": "execute_result"
    }
   ],
   "source": [
    "autom.checkAcceptance([-1, 0, 0, 0])"
   ]
  },
  {
   "cell_type": "code",
   "execution_count": 48,
   "metadata": {},
   "outputs": [],
   "source": [
    "lista = [0, 1, 0, 1, 0, 0, 1]"
   ]
  },
  {
   "cell_type": "code",
   "execution_count": 50,
   "metadata": {},
   "outputs": [
    {
     "ename": "AttributeError",
     "evalue": "'list' object has no attribute 'index_all'",
     "output_type": "error",
     "traceback": [
      "\u001b[1;31m---------------------------------------------------------------------------\u001b[0m",
      "\u001b[1;31mAttributeError\u001b[0m                            Traceback (most recent call last)",
      "\u001b[1;32m<ipython-input-50-1fc9fe9f5c80>\u001b[0m in \u001b[0;36m<module>\u001b[1;34m\u001b[0m\n\u001b[1;32m----> 1\u001b[1;33m \u001b[0mlista\u001b[0m\u001b[1;33m.\u001b[0m\u001b[0mindex_all\u001b[0m\u001b[1;33m(\u001b[0m\u001b[1;36m1\u001b[0m\u001b[1;33m)\u001b[0m\u001b[1;33m\u001b[0m\u001b[1;33m\u001b[0m\u001b[0m\n\u001b[0m",
      "\u001b[1;31mAttributeError\u001b[0m: 'list' object has no attribute 'index_all'"
     ]
    }
   ],
   "source": [
    "lista.index_all(1)"
   ]
  },
  {
   "cell_type": "code",
   "execution_count": 106,
   "metadata": {},
   "outputs": [],
   "source": [
    "chain = \"a\""
   ]
  },
  {
   "cell_type": "code",
   "execution_count": 107,
   "metadata": {},
   "outputs": [
    {
     "data": {
      "text/plain": [
       "''"
      ]
     },
     "execution_count": 107,
     "metadata": {},
     "output_type": "execute_result"
    }
   ],
   "source": [
    "chain[1:]"
   ]
  },
  {
   "cell_type": "code",
   "execution_count": null,
   "metadata": {},
   "outputs": [],
   "source": []
  }
 ],
 "metadata": {
  "kernelspec": {
   "display_name": "Python 3",
   "language": "python",
   "name": "python3"
  },
  "language_info": {
   "codemirror_mode": {
    "name": "ipython",
    "version": 3
   },
   "file_extension": ".py",
   "mimetype": "text/x-python",
   "name": "python",
   "nbconvert_exporter": "python",
   "pygments_lexer": "ipython3",
   "version": "3.7.3"
  }
 },
 "nbformat": 4,
 "nbformat_minor": 2
}
